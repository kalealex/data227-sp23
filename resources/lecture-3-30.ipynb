{
  "nbformat": 4,
  "nbformat_minor": 0,
  "metadata": {
    "colab": {
      "provenance": []
    },
    "kernelspec": {
      "name": "python3",
      "display_name": "Python 3"
    },
    "language_info": {
      "name": "python"
    }
  },
  "cells": [
    {
      "cell_type": "code",
      "execution_count": 55,
      "metadata": {
        "id": "ZdZ7JOTpm-x8"
      },
      "outputs": [],
      "source": [
        "import pandas as pd\n",
        "import altair as alt\n",
        "import vegafusion as vf\n",
        "from vega_datasets import data\n",
        "\n",
        "cars = data.cars()\n"
      ]
    },
    {
      "cell_type": "code",
      "source": [
        "# %pip install vegafusion_embed\n",
        "%pip install -U \"vegafusion[embed]\""
      ],
      "metadata": {
        "colab": {
          "base_uri": "https://localhost:8080/"
        },
        "id": "1vHv-2pirBtr",
        "outputId": "297f189d-bc4e-401c-9676-1bb050433413"
      },
      "execution_count": 41,
      "outputs": [
        {
          "output_type": "stream",
          "name": "stdout",
          "text": [
            "Looking in indexes: https://pypi.org/simple, https://us-python.pkg.dev/colab-wheels/public/simple/\n",
            "Requirement already satisfied: vegafusion[embed] in /usr/local/lib/python3.9/dist-packages (1.1.1)\n",
            "Requirement already satisfied: pyarrow>=5 in /usr/local/lib/python3.9/dist-packages (from vegafusion[embed]) (9.0.0)\n",
            "Requirement already satisfied: altair>=4.2.0 in /usr/local/lib/python3.9/dist-packages (from vegafusion[embed]) (4.2.2)\n",
            "Requirement already satisfied: pandas in /usr/local/lib/python3.9/dist-packages (from vegafusion[embed]) (1.4.4)\n",
            "Requirement already satisfied: psutil in /usr/local/lib/python3.9/dist-packages (from vegafusion[embed]) (5.9.4)\n",
            "Collecting vegafusion-python-embed==1.1.1\n",
            "  Downloading vegafusion_python_embed-1.1.1-cp39-cp39-manylinux_2_17_x86_64.manylinux2014_x86_64.whl (15.5 MB)\n",
            "\u001b[2K     \u001b[90m━━━━━━━━━━━━━━━━━━━━━━━━━━━━━━━━━━━━━━━━\u001b[0m \u001b[32m15.5/15.5 MB\u001b[0m \u001b[31m62.8 MB/s\u001b[0m eta \u001b[36m0:00:00\u001b[0m\n",
            "\u001b[?25hRequirement already satisfied: vl-convert-python>=0.7.0 in /usr/local/lib/python3.9/dist-packages (from vegafusion[embed]) (0.7.0)\n",
            "Requirement already satisfied: entrypoints in /usr/local/lib/python3.9/dist-packages (from altair>=4.2.0->vegafusion[embed]) (0.4)\n",
            "Requirement already satisfied: numpy in /usr/local/lib/python3.9/dist-packages (from altair>=4.2.0->vegafusion[embed]) (1.22.4)\n",
            "Requirement already satisfied: jsonschema>=3.0 in /usr/local/lib/python3.9/dist-packages (from altair>=4.2.0->vegafusion[embed]) (4.3.3)\n",
            "Requirement already satisfied: toolz in /usr/local/lib/python3.9/dist-packages (from altair>=4.2.0->vegafusion[embed]) (0.12.0)\n",
            "Requirement already satisfied: jinja2 in /usr/local/lib/python3.9/dist-packages (from altair>=4.2.0->vegafusion[embed]) (3.1.2)\n",
            "Requirement already satisfied: python-dateutil>=2.8.1 in /usr/local/lib/python3.9/dist-packages (from pandas->vegafusion[embed]) (2.8.2)\n",
            "Requirement already satisfied: pytz>=2020.1 in /usr/local/lib/python3.9/dist-packages (from pandas->vegafusion[embed]) (2022.7.1)\n",
            "Requirement already satisfied: pyrsistent!=0.17.0,!=0.17.1,!=0.17.2,>=0.14.0 in /usr/local/lib/python3.9/dist-packages (from jsonschema>=3.0->altair>=4.2.0->vegafusion[embed]) (0.19.3)\n",
            "Requirement already satisfied: attrs>=17.4.0 in /usr/local/lib/python3.9/dist-packages (from jsonschema>=3.0->altair>=4.2.0->vegafusion[embed]) (22.2.0)\n",
            "Requirement already satisfied: six>=1.5 in /usr/local/lib/python3.9/dist-packages (from python-dateutil>=2.8.1->pandas->vegafusion[embed]) (1.16.0)\n",
            "Requirement already satisfied: MarkupSafe>=2.0 in /usr/local/lib/python3.9/dist-packages (from jinja2->altair>=4.2.0->vegafusion[embed]) (2.1.2)\n",
            "Installing collected packages: vegafusion-python-embed\n",
            "Successfully installed vegafusion-python-embed-1.1.1\n"
          ]
        }
      ]
    },
    {
      "cell_type": "code",
      "source": [
        "from google.colab import drive, output\n",
        "drive.mount('/content/gdrive')\n"
      ],
      "metadata": {
        "colab": {
          "base_uri": "https://localhost:8080/"
        },
        "id": "n2MWtsZfnGvy",
        "outputId": "44a7a648-b327-48d1-c203-5706930ce1da"
      },
      "execution_count": 4,
      "outputs": [
        {
          "output_type": "stream",
          "name": "stdout",
          "text": [
            "Mounted at /content/gdrive\n"
          ]
        }
      ]
    },
    {
      "cell_type": "code",
      "source": [
        "df = pd.read_csv('/content/gdrive/MyDrive/Bird Strikes_Final (1).tsv', '\\t')"
      ],
      "metadata": {
        "colab": {
          "base_uri": "https://localhost:8080/"
        },
        "id": "9vuH0GJWngb8",
        "outputId": "19262a1b-4b5d-46fa-eb26-841601d49b9c"
      },
      "execution_count": 31,
      "outputs": [
        {
          "output_type": "stream",
          "name": "stderr",
          "text": [
            "<ipython-input-31-9f2a4c8b8c66>:1: FutureWarning: In a future version of pandas all arguments of read_csv except for the argument 'filepath_or_buffer' will be keyword-only.\n",
            "  df = pd.read_csv('/content/gdrive/MyDrive/Bird Strikes_Final (1).tsv', '\\t')\n"
          ]
        }
      ]
    },
    {
      "cell_type": "code",
      "source": [
        "name_name = {\n",
        "  'Aircraft: Type': 'AircraftType',\n",
        "  'Airport: Name': 'AirportName',\n",
        "  'Altitude bin': 'AltitudeBin',\n",
        "  'Aircraft: Make/Model': 'AircraftMakeModel',\n",
        "  'Wildlife: Number struck': 'WildlifeNumberStruck',\n",
        "  'Wildlife: Number Struck Actual': 'WildlifeNumberStruckActual',\n",
        "  'Effect: Impact to flight': 'ImpactToflight',\n",
        "  'FlightDate': 'FlightDate',\n",
        "  'Effect: Indicated Damage': 'IndicatedDamage',\n",
        "  'Aircraft: Number of engines?': 'Number of engines',\n",
        "  'Aircraft: Airline/Operator': 'Airline',\n",
        "  'Origin State': 'OriginState',\n",
        "  'When: Phase of flight': 'PhaseOfFlight',\n",
        "  'Conditions: Precipitation': 'Precipitation',\n",
        "  'Remains of wildlife collected?': 'RemainsOfWildlifeCollected?',\n",
        "  'Remains of wildlife sent to Smithsonian': 'RemainsOfWildlifeSentToSmithsonian',\n",
        "  'Remarks': 'Remarks',\n",
        "  'Wildlife: Size': 'WildlifeSize',\n",
        "  'Conditions: Sky': 'ConditionsSky',\n",
        "  'Wildlife: Species': 'WildlifeSpecies',\n",
        "  'Pilot warned of birds or wildlife?': 'PilotWarnedOfBirdsOrWildlife?',\n",
        "  'Cost: Total $': 'TotalCost',\n",
        "  'Feet above ground': 'FeetAboveGround',\n",
        "  'Number of people injured': 'NumberOfPeopleInjured',\n",
        "  'Is Aircraft Large?': 'IsAircraftLarge'\n",
        "  }\n",
        "df = df.rename(columns=name_name)\n",
        "df = df"
      ],
      "metadata": {
        "id": "PmCLIvimonz_"
      },
      "execution_count": 32,
      "outputs": []
    },
    {
      "cell_type": "code",
      "source": [
        "df.columns"
      ],
      "metadata": {
        "colab": {
          "base_uri": "https://localhost:8080/"
        },
        "id": "8JsKpJIfoyKU",
        "outputId": "5c347aad-7da4-412c-dc12-dff4372d7d39"
      },
      "execution_count": 10,
      "outputs": [
        {
          "output_type": "execute_result",
          "data": {
            "text/plain": [
              "Index(['Record ID', 'AircraftType', 'AirportName', 'AltitudeBin',\n",
              "       'AircraftMakeModel', 'WildlifeNumberStruck',\n",
              "       'WildlifeNumberStruckActual', 'ImpactToflight', 'FlightDate',\n",
              "       'IndicatedDamage', 'Number of engines', 'Airline', 'OriginState',\n",
              "       'PhaseOfFlight', 'Precipitation', 'RemainsOfWildlifeCollected?',\n",
              "       'RemainsOfWildlifeSentToSmithsonian', 'Remarks', 'WildlifeSize',\n",
              "       'ConditionsSky', 'WildlifeSpecies', 'PilotWarnedOfBirdsOrWildlife?',\n",
              "       'TotalCost', 'FeetAboveGround', 'NumberOfPeopleInjured',\n",
              "       'IsAircraftLarge'],\n",
              "      dtype='object')"
            ]
          },
          "metadata": {},
          "execution_count": 10
        }
      ]
    },
    {
      "cell_type": "code",
      "source": [
        "alt.Chart(df).mark_bar(color=\"gold\", tooltip=True).encode(y=alt.Y(\"OriginState\", sort=\"-x\"), x=alt.X(\"count()\")).properties(height=500)"
      ],
      "metadata": {
        "colab": {
          "base_uri": "https://localhost:8080/",
          "height": 565
        },
        "id": "sZ2o27qZo8Uu",
        "outputId": "4cf77a3f-0410-4eae-9e3e-55c985299c54"
      },
      "execution_count": 43,
      "outputs": [
        {
          "output_type": "execute_result",
          "data": {
            "text/html": [
              "\n",
              "<div id=\"altair-viz-ce927a57acd14ed8a812d98b9f7225df\"></div>\n",
              "<script type=\"text/javascript\">\n",
              "  var VEGA_DEBUG = (typeof VEGA_DEBUG == \"undefined\") ? {} : VEGA_DEBUG;\n",
              "  (function(spec, embedOpt){\n",
              "    let outputDiv = document.currentScript.previousElementSibling;\n",
              "    if (outputDiv.id !== \"altair-viz-ce927a57acd14ed8a812d98b9f7225df\") {\n",
              "      outputDiv = document.getElementById(\"altair-viz-ce927a57acd14ed8a812d98b9f7225df\");\n",
              "    }\n",
              "    const paths = {\n",
              "      \"vega\": \"https://cdn.jsdelivr.net/npm//vega@5?noext\",\n",
              "      \"vega-lib\": \"https://cdn.jsdelivr.net/npm//vega-lib?noext\",\n",
              "      \"vega-lite\": \"https://cdn.jsdelivr.net/npm//vega-lite@v4.17.0?noext\",\n",
              "      \"vega-embed\": \"https://cdn.jsdelivr.net/npm//vega-embed@6?noext\",\n",
              "    };\n",
              "\n",
              "    function maybeLoadScript(lib, version) {\n",
              "      var key = `${lib.replace(\"-\", \"\")}_version`;\n",
              "      return (VEGA_DEBUG[key] == version) ?\n",
              "        Promise.resolve(paths[lib]) :\n",
              "        new Promise(function(resolve, reject) {\n",
              "          var s = document.createElement('script');\n",
              "          document.getElementsByTagName(\"head\")[0].appendChild(s);\n",
              "          s.async = true;\n",
              "          s.onload = () => {\n",
              "            VEGA_DEBUG[key] = version;\n",
              "            return resolve(paths[lib]);\n",
              "          };\n",
              "          s.onerror = () => reject(`Error loading script: ${paths[lib]}`);\n",
              "          s.src = paths[lib];\n",
              "        });\n",
              "    }\n",
              "\n",
              "    function showError(err) {\n",
              "      outputDiv.innerHTML = `<div class=\"error\" style=\"color:red;\">${err}</div>`;\n",
              "      throw err;\n",
              "    }\n",
              "\n",
              "    function displayChart(vegaEmbed) {\n",
              "      vegaEmbed(outputDiv, spec, embedOpt)\n",
              "        .catch(err => showError(`Javascript Error: ${err.message}<br>This usually means there's a typo in your chart specification. See the javascript console for the full traceback.`));\n",
              "    }\n",
              "\n",
              "    if(typeof define === \"function\" && define.amd) {\n",
              "      requirejs.config({paths});\n",
              "      require([\"vega-embed\"], displayChart, err => showError(`Error loading script: ${err.message}`));\n",
              "    } else {\n",
              "      maybeLoadScript(\"vega\", \"5\")\n",
              "        .then(() => maybeLoadScript(\"vega-lite\", \"v4.17.0\"))\n",
              "        .then(() => maybeLoadScript(\"vega-embed\", \"6\"))\n",
              "        .catch(showError)\n",
              "        .then(() => displayChart(vegaEmbed));\n",
              "    }\n",
              "  })({\"$schema\": \"https://vega.github.io/schema/vega/v5.json\", \"data\": [{\"name\": \"source_0\"}, {\"name\": \"data_0\", \"values\": [{\"OriginState\": \"New York\", \"__count\": 1319}, {\"OriginState\": \"Texas\", \"__count\": 2453}, {\"OriginState\": \"Louisiana\", \"__count\": 397}, {\"OriginState\": \"Washington\", \"__count\": 330}, {\"OriginState\": \"Virginia\", \"__count\": 300}, {\"OriginState\": null, \"__count\": 449}, {\"OriginState\": \"Delaware\", \"__count\": 27}, {\"OriginState\": \"DC\", \"__count\": 432}, {\"OriginState\": \"Georgia\", \"__count\": 510}, {\"OriginState\": \"Florida\", \"__count\": 2055}, {\"OriginState\": \"California\", \"__count\": 2520}, {\"OriginState\": \"Illinois\", \"__count\": 1008}, {\"OriginState\": \"Connecticut\", \"__count\": 246}, {\"OriginState\": \"Missouri\", \"__count\": 960}, {\"OriginState\": \"Rhode Island\", \"__count\": 125}, {\"OriginState\": \"Hawaii\", \"__count\": 729}, {\"OriginState\": \"Arizona\", \"__count\": 360}, {\"OriginState\": \"Tennessee\", \"__count\": 655}, {\"OriginState\": \"South Carolina\", \"__count\": 166}, {\"OriginState\": \"South Dakota\", \"__count\": 60}, {\"OriginState\": \"New Jersey\", \"__count\": 600}, {\"OriginState\": \"Colorado\", \"__count\": 664}, {\"OriginState\": \"Minnesota\", \"__count\": 352}, {\"OriginState\": \"Alabama\", \"__count\": 301}, {\"OriginState\": \"Ohio\", \"__count\": 778}, {\"OriginState\": \"Wisconsin\", \"__count\": 286}, {\"OriginState\": \"Michigan\", \"__count\": 678}, {\"OriginState\": \"Massachusetts\", \"__count\": 355}, {\"OriginState\": \"Alaska\", \"__count\": 186}, {\"OriginState\": \"North Carolina\", \"__count\": 652}, {\"OriginState\": \"Kentucky\", \"__count\": 812}, {\"OriginState\": \"Indiana\", \"__count\": 346}, {\"OriginState\": \"Oregon\", \"__count\": 391}, {\"OriginState\": \"Pennsylvania\", \"__count\": 986}, {\"OriginState\": \"New Hampshire\", \"__count\": 120}, {\"OriginState\": \"Arkansas\", \"__count\": 118}, {\"OriginState\": \"Nevada\", \"__count\": 167}, {\"OriginState\": \"Mississippi\", \"__count\": 117}, {\"OriginState\": \"Maryland\", \"__count\": 433}, {\"OriginState\": \"Maine\", \"__count\": 41}, {\"OriginState\": \"Quebec\", \"__count\": 9}, {\"OriginState\": \"Idaho\", \"__count\": 68}, {\"OriginState\": \"British Columbia\", \"__count\": 12}, {\"OriginState\": \"Utah\", \"__count\": 496}, {\"OriginState\": \"Nebraska\", \"__count\": 368}, {\"OriginState\": \"Iowa\", \"__count\": 228}, {\"OriginState\": \"New Mexico\", \"__count\": 94}, {\"OriginState\": \"West Virginia\", \"__count\": 83}, {\"OriginState\": \"Oklahoma\", \"__count\": 212}, {\"OriginState\": \"North Dakota\", \"__count\": 87}, {\"OriginState\": \"Vermont\", \"__count\": 36}, {\"OriginState\": \"Wyoming\", \"__count\": 34}, {\"OriginState\": \"Kansas\", \"__count\": 100}, {\"OriginState\": \"Prince Edward Island\", \"__count\": 83}, {\"OriginState\": \"Montana\", \"__count\": 43}, {\"OriginState\": \"Puerto Rico\", \"__count\": 70}, {\"OriginState\": \"Ontario\", \"__count\": 14}, {\"OriginState\": \"Virgin Islands\", \"__count\": 31}, {\"OriginState\": \"Newfoundland and Labrador\", \"__count\": 2}, {\"OriginState\": \"Alberta\", \"__count\": 3}, {\"OriginState\": \"Saskatchewan\", \"__count\": 1}]}, {\"name\": \"data_0_x_domain___count\", \"values\": [{\"min\": 1, \"max\": 2520}]}, {\"name\": \"source_0_y_domain_OriginState\", \"values\": [{\"OriginState\": \"New York\", \"sort_field\": 1319}, {\"OriginState\": \"Texas\", \"sort_field\": 2453}, {\"OriginState\": \"Louisiana\", \"sort_field\": 397}, {\"OriginState\": \"Washington\", \"sort_field\": 330}, {\"OriginState\": \"Virginia\", \"sort_field\": 300}, {\"OriginState\": null, \"sort_field\": 449}, {\"OriginState\": \"Delaware\", \"sort_field\": 27}, {\"OriginState\": \"DC\", \"sort_field\": 432}, {\"OriginState\": \"Georgia\", \"sort_field\": 510}, {\"OriginState\": \"Florida\", \"sort_field\": 2055}, {\"OriginState\": \"California\", \"sort_field\": 2520}, {\"OriginState\": \"Illinois\", \"sort_field\": 1008}, {\"OriginState\": \"Connecticut\", \"sort_field\": 246}, {\"OriginState\": \"Missouri\", \"sort_field\": 960}, {\"OriginState\": \"Rhode Island\", \"sort_field\": 125}, {\"OriginState\": \"Hawaii\", \"sort_field\": 729}, {\"OriginState\": \"Arizona\", \"sort_field\": 360}, {\"OriginState\": \"Tennessee\", \"sort_field\": 655}, {\"OriginState\": \"South Carolina\", \"sort_field\": 166}, {\"OriginState\": \"South Dakota\", \"sort_field\": 60}, {\"OriginState\": \"New Jersey\", \"sort_field\": 600}, {\"OriginState\": \"Colorado\", \"sort_field\": 664}, {\"OriginState\": \"Minnesota\", \"sort_field\": 352}, {\"OriginState\": \"Alabama\", \"sort_field\": 301}, {\"OriginState\": \"Ohio\", \"sort_field\": 778}, {\"OriginState\": \"Wisconsin\", \"sort_field\": 286}, {\"OriginState\": \"Michigan\", \"sort_field\": 678}, {\"OriginState\": \"Massachusetts\", \"sort_field\": 355}, {\"OriginState\": \"Alaska\", \"sort_field\": 186}, {\"OriginState\": \"North Carolina\", \"sort_field\": 652}, {\"OriginState\": \"Kentucky\", \"sort_field\": 812}, {\"OriginState\": \"Indiana\", \"sort_field\": 346}, {\"OriginState\": \"Oregon\", \"sort_field\": 391}, {\"OriginState\": \"Pennsylvania\", \"sort_field\": 986}, {\"OriginState\": \"New Hampshire\", \"sort_field\": 120}, {\"OriginState\": \"Arkansas\", \"sort_field\": 118}, {\"OriginState\": \"Nevada\", \"sort_field\": 167}, {\"OriginState\": \"Mississippi\", \"sort_field\": 117}, {\"OriginState\": \"Maryland\", \"sort_field\": 433}, {\"OriginState\": \"Maine\", \"sort_field\": 41}, {\"OriginState\": \"Quebec\", \"sort_field\": 9}, {\"OriginState\": \"Idaho\", \"sort_field\": 68}, {\"OriginState\": \"British Columbia\", \"sort_field\": 12}, {\"OriginState\": \"Utah\", \"sort_field\": 496}, {\"OriginState\": \"Nebraska\", \"sort_field\": 368}, {\"OriginState\": \"Iowa\", \"sort_field\": 228}, {\"OriginState\": \"New Mexico\", \"sort_field\": 94}, {\"OriginState\": \"West Virginia\", \"sort_field\": 83}, {\"OriginState\": \"Oklahoma\", \"sort_field\": 212}, {\"OriginState\": \"North Dakota\", \"sort_field\": 87}, {\"OriginState\": \"Vermont\", \"sort_field\": 36}, {\"OriginState\": \"Wyoming\", \"sort_field\": 34}, {\"OriginState\": \"Kansas\", \"sort_field\": 100}, {\"OriginState\": \"Prince Edward Island\", \"sort_field\": 83}, {\"OriginState\": \"Montana\", \"sort_field\": 43}, {\"OriginState\": \"Puerto Rico\", \"sort_field\": 70}, {\"OriginState\": \"Ontario\", \"sort_field\": 14}, {\"OriginState\": \"Virgin Islands\", \"sort_field\": 31}, {\"OriginState\": \"Newfoundland and Labrador\", \"sort_field\": 2}, {\"OriginState\": \"Alberta\", \"sort_field\": 3}, {\"OriginState\": \"Saskatchewan\", \"sort_field\": 1}]}], \"marks\": [{\"type\": \"rect\", \"name\": \"marks\", \"from\": {\"data\": \"data_0\"}, \"encode\": {\"update\": {\"x2\": {\"value\": 0, \"scale\": \"x\"}, \"x\": {\"field\": \"__count\", \"scale\": \"x\"}, \"y\": {\"field\": \"OriginState\", \"scale\": \"y\"}, \"description\": {\"signal\": \"\\\"Count of Records: \\\" + (format(datum[\\\"__count\\\"], \\\"\\\")) + \\\"; OriginState: \\\" + (isValid(datum[\\\"OriginState\\\"]) ? datum[\\\"OriginState\\\"] : \\\"\\\"+datum[\\\"OriginState\\\"])\"}, \"ariaRoleDescription\": {\"value\": \"bar\"}, \"tooltip\": {\"signal\": \"{\\\"Count of Records\\\": format(datum[\\\"__count\\\"], \\\"\\\"), \\\"OriginState\\\": isValid(datum[\\\"OriginState\\\"]) ? datum[\\\"OriginState\\\"] : \\\"\\\"+datum[\\\"OriginState\\\"]}\"}, \"height\": {\"scale\": \"y\", \"band\": 1}, \"fill\": {\"value\": \"gold\"}}}, \"style\": [\"bar\"]}], \"scales\": [{\"name\": \"x\", \"type\": \"linear\", \"domain\": [{\"signal\": \"(data(\\\"data_0_x_domain___count\\\")[0] || {}).min\"}, {\"signal\": \"(data(\\\"data_0_x_domain___count\\\")[0] || {}).max\"}], \"range\": [0, {\"signal\": \"width\"}], \"nice\": true, \"zero\": true}, {\"name\": \"y\", \"type\": \"band\", \"domain\": {\"data\": \"source_0_y_domain_OriginState\", \"field\": \"OriginState\", \"sort\": {\"op\": \"max\", \"field\": \"sort_field\", \"order\": \"descending\"}}, \"range\": [0, {\"signal\": \"height\"}], \"paddingOuter\": 0.05, \"paddingInner\": 0.1}], \"axes\": [{\"scale\": \"x\", \"maxExtent\": 0, \"orient\": \"bottom\", \"gridScale\": \"y\", \"grid\": true, \"tickCount\": {\"signal\": \"ceil(width/40)\"}, \"domain\": false, \"minExtent\": 0, \"aria\": false, \"ticks\": false, \"zindex\": 0, \"labels\": false}, {\"scale\": \"x\", \"grid\": false, \"title\": \"Count of Records\", \"labelOverlap\": true, \"tickCount\": {\"signal\": \"ceil(width/40)\"}, \"labelFlush\": true, \"orient\": \"bottom\", \"zindex\": 0}, {\"scale\": \"y\", \"title\": \"OriginState\", \"grid\": false, \"zindex\": 0, \"orient\": \"left\"}], \"width\": 400, \"background\": \"white\", \"padding\": 5, \"height\": 500, \"style\": \"cell\"}, {\"mode\": \"vega\"});\n",
              "</script>"
            ],
            "text/plain": [
              "alt.Chart(...)"
            ]
          },
          "metadata": {},
          "execution_count": 43
        }
      ]
    },
    {
      "cell_type": "code",
      "source": [
        "# {\n",
        "#   \"$schema\": \"https://vega.github.io/schema/vega-lite/v5.json\",\n",
        "#   \"width\": 300, \"height\": 200,\n",
        "#   \"data\": {\"url\": \"data/unemployment-across-industries.json\"},\n",
        "#   \"mark\": \"area\",\n",
        "#   \"encoding\": {\n",
        "#     \"x\": {\n",
        "#       \"timeUnit\": \"yearmonth\", \"field\": \"date\",\n",
        "#       \"axis\": {\"format\": \"%Y\"}\n",
        "#     },\n",
        "#     \"y\": {\n",
        "#       \"aggregate\": \"sum\", \"field\": \"count\"\n",
        "#     },\n",
        "#     \"color\": {\n",
        "#       \"field\": \"series\",\n",
        "#       \"scale\": {\"scheme\": \"category20b\"}\n",
        "#     }\n",
        "#   }\n",
        "# }\n",
        "xAxis = alt.X('date', timeUnit=alt.TimeUnit('yearmonth'), axis=alt.Axis(format=\"%Y\"))\n",
        "yAxis = alt.Y('count', aggregate=alt.Aggregate('sum'))\n",
        "alt.Chart(df).mark_area().encode(x=xAxis, y=yAxis)"
      ],
      "metadata": {
        "id": "Tcvua2JQpIUl"
      },
      "execution_count": null,
      "outputs": []
    },
    {
      "cell_type": "code",
      "source": [
        "pre = alt.Chart(df).encode(\n",
        "    x=\"WildlifeSize\", \n",
        "    y=\"ConditionsSky\", \n",
        "    ).properties(width={\"step\": 100}, height={\"step\": 100})\n",
        "boxes = pre.mark_rect().encode(color=\"count()\")\n",
        "text = pre.mark_text().encode(text=\"count()\")\n",
        "# text = alt.Chart(df).mark_text().encode(\n",
        "#     x=\"WildlifeSize\", \n",
        "#     y=\"ConditionsSky\", \n",
        "#     text=\"count()\"\n",
        "#     ).properties(width={\"step\": 100}, height={\"step\": 100}) \n",
        "boxes + text"
      ],
      "metadata": {
        "colab": {
          "base_uri": "https://localhost:8080/",
          "height": 389
        },
        "id": "N9s56VKOsiV8",
        "outputId": "ef2b8e50-09ce-4fb8-9b2f-1ec214b7d664"
      },
      "execution_count": 51,
      "outputs": [
        {
          "output_type": "execute_result",
          "data": {
            "text/html": [
              "\n",
              "<div id=\"altair-viz-fc2edea08c794176a87d4c5d40fd4efb\"></div>\n",
              "<script type=\"text/javascript\">\n",
              "  var VEGA_DEBUG = (typeof VEGA_DEBUG == \"undefined\") ? {} : VEGA_DEBUG;\n",
              "  (function(spec, embedOpt){\n",
              "    let outputDiv = document.currentScript.previousElementSibling;\n",
              "    if (outputDiv.id !== \"altair-viz-fc2edea08c794176a87d4c5d40fd4efb\") {\n",
              "      outputDiv = document.getElementById(\"altair-viz-fc2edea08c794176a87d4c5d40fd4efb\");\n",
              "    }\n",
              "    const paths = {\n",
              "      \"vega\": \"https://cdn.jsdelivr.net/npm//vega@5?noext\",\n",
              "      \"vega-lib\": \"https://cdn.jsdelivr.net/npm//vega-lib?noext\",\n",
              "      \"vega-lite\": \"https://cdn.jsdelivr.net/npm//vega-lite@v4.17.0?noext\",\n",
              "      \"vega-embed\": \"https://cdn.jsdelivr.net/npm//vega-embed@6?noext\",\n",
              "    };\n",
              "\n",
              "    function maybeLoadScript(lib, version) {\n",
              "      var key = `${lib.replace(\"-\", \"\")}_version`;\n",
              "      return (VEGA_DEBUG[key] == version) ?\n",
              "        Promise.resolve(paths[lib]) :\n",
              "        new Promise(function(resolve, reject) {\n",
              "          var s = document.createElement('script');\n",
              "          document.getElementsByTagName(\"head\")[0].appendChild(s);\n",
              "          s.async = true;\n",
              "          s.onload = () => {\n",
              "            VEGA_DEBUG[key] = version;\n",
              "            return resolve(paths[lib]);\n",
              "          };\n",
              "          s.onerror = () => reject(`Error loading script: ${paths[lib]}`);\n",
              "          s.src = paths[lib];\n",
              "        });\n",
              "    }\n",
              "\n",
              "    function showError(err) {\n",
              "      outputDiv.innerHTML = `<div class=\"error\" style=\"color:red;\">${err}</div>`;\n",
              "      throw err;\n",
              "    }\n",
              "\n",
              "    function displayChart(vegaEmbed) {\n",
              "      vegaEmbed(outputDiv, spec, embedOpt)\n",
              "        .catch(err => showError(`Javascript Error: ${err.message}<br>This usually means there's a typo in your chart specification. See the javascript console for the full traceback.`));\n",
              "    }\n",
              "\n",
              "    if(typeof define === \"function\" && define.amd) {\n",
              "      requirejs.config({paths});\n",
              "      require([\"vega-embed\"], displayChart, err => showError(`Error loading script: ${err.message}`));\n",
              "    } else {\n",
              "      maybeLoadScript(\"vega\", \"5\")\n",
              "        .then(() => maybeLoadScript(\"vega-lite\", \"v4.17.0\"))\n",
              "        .then(() => maybeLoadScript(\"vega-embed\", \"6\"))\n",
              "        .catch(showError)\n",
              "        .then(() => displayChart(vegaEmbed));\n",
              "    }\n",
              "  })({\"$schema\": \"https://vega.github.io/schema/vega/v5.json\", \"data\": [{\"name\": \"source_0\", \"values\": [{\"ConditionsSky\": \"No Cloud\", \"WildlifeSize\": \"Medium\", \"__count\": 3016}, {\"ConditionsSky\": \"Some Cloud\", \"WildlifeSize\": \"Small\", \"__count\": 6077}, {\"ConditionsSky\": \"No Cloud\", \"WildlifeSize\": \"Small\", \"__count\": 8568}, {\"ConditionsSky\": \"No Cloud\", \"WildlifeSize\": \"Large\", \"__count\": 991}, {\"ConditionsSky\": \"Overcast\", \"WildlifeSize\": \"Small\", \"__count\": 2767}, {\"ConditionsSky\": \"Some Cloud\", \"WildlifeSize\": \"Large\", \"__count\": 719}, {\"ConditionsSky\": \"Overcast\", \"WildlifeSize\": \"Medium\", \"__count\": 1058}, {\"ConditionsSky\": \"Some Cloud\", \"WildlifeSize\": \"Medium\", \"__count\": 1863}, {\"ConditionsSky\": \"Overcast\", \"WildlifeSize\": \"Large\", \"__count\": 370}, {\"ConditionsSky\": \"No Cloud\", \"WildlifeSize\": null, \"__count\": 67}, {\"ConditionsSky\": \"Some Cloud\", \"WildlifeSize\": null, \"__count\": 47}, {\"ConditionsSky\": \"Overcast\", \"WildlifeSize\": null, \"__count\": 15}]}, {\"name\": \"source_0_x_domain_WildlifeSize\", \"values\": [{\"WildlifeSize\": \"Medium\"}, {\"WildlifeSize\": \"Small\"}, {\"WildlifeSize\": \"Large\"}, {\"WildlifeSize\": null}]}, {\"name\": \"source_0_y_domain_ConditionsSky\", \"values\": [{\"ConditionsSky\": \"No Cloud\"}, {\"ConditionsSky\": \"Some Cloud\"}, {\"ConditionsSky\": \"Overcast\"}]}, {\"name\": \"source_0_color_domain___count\", \"values\": [{\"min\": 15, \"max\": 8568}]}], \"signals\": [{\"name\": \"x_step\", \"value\": 100}, {\"name\": \"width\", \"update\": \"bandspace(domain('x').length, 0, 0) * x_step\"}, {\"name\": \"y_step\", \"value\": 100}, {\"name\": \"height\", \"update\": \"bandspace(domain('y').length, 0, 0) * y_step\"}], \"marks\": [{\"type\": \"rect\", \"name\": \"layer_0_marks\", \"from\": {\"data\": \"source_0\"}, \"encode\": {\"update\": {\"height\": {\"scale\": \"y\", \"band\": 1}, \"x\": {\"field\": \"WildlifeSize\", \"scale\": \"x\"}, \"fill\": {\"field\": \"__count\", \"scale\": \"color\"}, \"width\": {\"scale\": \"x\", \"band\": 1}, \"description\": {\"signal\": \"\\\"Count of Records: \\\" + (format(datum[\\\"__count\\\"], \\\"\\\")) + \\\"; WildlifeSize: \\\" + (isValid(datum[\\\"WildlifeSize\\\"]) ? datum[\\\"WildlifeSize\\\"] : \\\"\\\"+datum[\\\"WildlifeSize\\\"]) + \\\"; ConditionsSky: \\\" + (isValid(datum[\\\"ConditionsSky\\\"]) ? datum[\\\"ConditionsSky\\\"] : \\\"\\\"+datum[\\\"ConditionsSky\\\"])\"}, \"y\": {\"field\": \"ConditionsSky\", \"scale\": \"y\"}}}, \"style\": [\"rect\"]}, {\"type\": \"text\", \"name\": \"layer_1_marks\", \"from\": {\"data\": \"source_0\"}, \"encode\": {\"update\": {\"text\": {\"signal\": \"format(datum[\\\"__count\\\"], \\\"\\\")\"}, \"y\": {\"field\": \"ConditionsSky\", \"scale\": \"y\", \"band\": 0.5}, \"align\": {\"value\": \"center\"}, \"x\": {\"field\": \"WildlifeSize\", \"scale\": \"x\", \"band\": 0.5}, \"baseline\": {\"value\": \"middle\"}, \"description\": {\"signal\": \"\\\"Count of Records: \\\" + (format(datum[\\\"__count\\\"], \\\"\\\")) + \\\"; WildlifeSize: \\\" + (isValid(datum[\\\"WildlifeSize\\\"]) ? datum[\\\"WildlifeSize\\\"] : \\\"\\\"+datum[\\\"WildlifeSize\\\"]) + \\\"; ConditionsSky: \\\" + (isValid(datum[\\\"ConditionsSky\\\"]) ? datum[\\\"ConditionsSky\\\"] : \\\"\\\"+datum[\\\"ConditionsSky\\\"])\"}, \"fill\": {\"value\": \"black\"}}}, \"style\": [\"text\"]}], \"scales\": [{\"name\": \"x\", \"type\": \"band\", \"domain\": {\"data\": \"source_0_x_domain_WildlifeSize\", \"field\": \"WildlifeSize\", \"sort\": true}, \"range\": {\"step\": {\"signal\": \"x_step\"}}, \"paddingOuter\": 0, \"paddingInner\": 0}, {\"name\": \"y\", \"type\": \"band\", \"domain\": {\"data\": \"source_0_y_domain_ConditionsSky\", \"field\": \"ConditionsSky\", \"sort\": true}, \"range\": {\"step\": {\"signal\": \"y_step\"}}, \"paddingInner\": 0, \"paddingOuter\": 0}, {\"name\": \"color\", \"type\": \"linear\", \"domain\": [{\"signal\": \"(data(\\\"source_0_color_domain___count\\\")[0] || {}).min\"}, {\"signal\": \"(data(\\\"source_0_color_domain___count\\\")[0] || {}).max\"}], \"range\": \"heatmap\", \"interpolate\": \"hcl\", \"zero\": false}], \"axes\": [{\"scale\": \"x\", \"orient\": \"bottom\", \"grid\": false, \"labelAngle\": 270, \"labelBaseline\": \"middle\", \"labelAlign\": \"right\", \"zindex\": 1, \"title\": \"WildlifeSize\"}, {\"scale\": \"y\", \"zindex\": 1, \"title\": \"ConditionsSky\", \"grid\": false, \"orient\": \"left\"}], \"style\": \"cell\", \"legends\": [{\"fill\": \"color\", \"gradientLength\": {\"signal\": \"clamp(height, 64, 200)\"}, \"title\": \"Count of Records\"}], \"padding\": 5, \"background\": \"white\"}, {\"mode\": \"vega\"});\n",
              "</script>"
            ],
            "text/plain": [
              "alt.LayerChart(...)"
            ]
          },
          "metadata": {},
          "execution_count": 51
        }
      ]
    },
    {
      "cell_type": "code",
      "source": [
        "# example of not requiring quant scales to include zeros\n",
        "alt.Chart(cars).mark_point().encode(\n",
        "    x=alt.X('Miles_per_Gallon', scale=alt.Scale(zero=False)),\n",
        "    y=alt.Y('Cylinders', scale=alt.Scale(zero=False)),\n",
        "    color=alt.Color('year(Year):O', scale=alt.Scale(scheme='category20'))\n",
        ")"
      ],
      "metadata": {
        "colab": {
          "base_uri": "https://localhost:8080/",
          "height": 368
        },
        "id": "LPs8cyo2s78m",
        "outputId": "742f2731-8a4e-4507-d784-982d5ec26555"
      },
      "execution_count": 68,
      "outputs": [
        {
          "output_type": "execute_result",
          "data": {
            "text/html": [
              "\n",
              "<div id=\"altair-viz-8e5e93f7d14944d5a551042f884c2d96\"></div>\n",
              "<script type=\"text/javascript\">\n",
              "  var VEGA_DEBUG = (typeof VEGA_DEBUG == \"undefined\") ? {} : VEGA_DEBUG;\n",
              "  (function(spec, embedOpt){\n",
              "    let outputDiv = document.currentScript.previousElementSibling;\n",
              "    if (outputDiv.id !== \"altair-viz-8e5e93f7d14944d5a551042f884c2d96\") {\n",
              "      outputDiv = document.getElementById(\"altair-viz-8e5e93f7d14944d5a551042f884c2d96\");\n",
              "    }\n",
              "    const paths = {\n",
              "      \"vega\": \"https://cdn.jsdelivr.net/npm//vega@5?noext\",\n",
              "      \"vega-lib\": \"https://cdn.jsdelivr.net/npm//vega-lib?noext\",\n",
              "      \"vega-lite\": \"https://cdn.jsdelivr.net/npm//vega-lite@v4.17.0?noext\",\n",
              "      \"vega-embed\": \"https://cdn.jsdelivr.net/npm//vega-embed@6?noext\",\n",
              "    };\n",
              "\n",
              "    function maybeLoadScript(lib, version) {\n",
              "      var key = `${lib.replace(\"-\", \"\")}_version`;\n",
              "      return (VEGA_DEBUG[key] == version) ?\n",
              "        Promise.resolve(paths[lib]) :\n",
              "        new Promise(function(resolve, reject) {\n",
              "          var s = document.createElement('script');\n",
              "          document.getElementsByTagName(\"head\")[0].appendChild(s);\n",
              "          s.async = true;\n",
              "          s.onload = () => {\n",
              "            VEGA_DEBUG[key] = version;\n",
              "            return resolve(paths[lib]);\n",
              "          };\n",
              "          s.onerror = () => reject(`Error loading script: ${paths[lib]}`);\n",
              "          s.src = paths[lib];\n",
              "        });\n",
              "    }\n",
              "\n",
              "    function showError(err) {\n",
              "      outputDiv.innerHTML = `<div class=\"error\" style=\"color:red;\">${err}</div>`;\n",
              "      throw err;\n",
              "    }\n",
              "\n",
              "    function displayChart(vegaEmbed) {\n",
              "      vegaEmbed(outputDiv, spec, embedOpt)\n",
              "        .catch(err => showError(`Javascript Error: ${err.message}<br>This usually means there's a typo in your chart specification. See the javascript console for the full traceback.`));\n",
              "    }\n",
              "\n",
              "    if(typeof define === \"function\" && define.amd) {\n",
              "      requirejs.config({paths});\n",
              "      require([\"vega-embed\"], displayChart, err => showError(`Error loading script: ${err.message}`));\n",
              "    } else {\n",
              "      maybeLoadScript(\"vega\", \"5\")\n",
              "        .then(() => maybeLoadScript(\"vega-lite\", \"v4.17.0\"))\n",
              "        .then(() => maybeLoadScript(\"vega-embed\", \"6\"))\n",
              "        .catch(showError)\n",
              "        .then(() => displayChart(vegaEmbed));\n",
              "    }\n",
              "  })({\"$schema\": \"https://vega.github.io/schema/vega/v5.json\", \"data\": [{\"name\": \"source_0\", \"values\": [{\"Cylinders\": 8, \"Miles_per_Gallon\": 18.0, \"year_Year\": \"1970-01-01T00:00:00.000\"}, {\"Cylinders\": 8, \"Miles_per_Gallon\": 15.0, \"year_Year\": \"1970-01-01T00:00:00.000\"}, {\"Cylinders\": 8, \"Miles_per_Gallon\": 18.0, \"year_Year\": \"1970-01-01T00:00:00.000\"}, {\"Cylinders\": 8, \"Miles_per_Gallon\": 16.0, \"year_Year\": \"1970-01-01T00:00:00.000\"}, {\"Cylinders\": 8, \"Miles_per_Gallon\": 17.0, \"year_Year\": \"1970-01-01T00:00:00.000\"}, {\"Cylinders\": 8, \"Miles_per_Gallon\": 15.0, \"year_Year\": \"1970-01-01T00:00:00.000\"}, {\"Cylinders\": 8, \"Miles_per_Gallon\": 14.0, \"year_Year\": \"1970-01-01T00:00:00.000\"}, {\"Cylinders\": 8, \"Miles_per_Gallon\": 14.0, \"year_Year\": \"1970-01-01T00:00:00.000\"}, {\"Cylinders\": 8, \"Miles_per_Gallon\": 14.0, \"year_Year\": \"1970-01-01T00:00:00.000\"}, {\"Cylinders\": 8, \"Miles_per_Gallon\": 15.0, \"year_Year\": \"1970-01-01T00:00:00.000\"}, {\"Cylinders\": 8, \"Miles_per_Gallon\": 15.0, \"year_Year\": \"1970-01-01T00:00:00.000\"}, {\"Cylinders\": 8, \"Miles_per_Gallon\": 14.0, \"year_Year\": \"1970-01-01T00:00:00.000\"}, {\"Cylinders\": 8, \"Miles_per_Gallon\": 15.0, \"year_Year\": \"1970-01-01T00:00:00.000\"}, {\"Cylinders\": 8, \"Miles_per_Gallon\": 14.0, \"year_Year\": \"1970-01-01T00:00:00.000\"}, {\"Cylinders\": 4, \"Miles_per_Gallon\": 24.0, \"year_Year\": \"1970-01-01T00:00:00.000\"}, {\"Cylinders\": 6, \"Miles_per_Gallon\": 22.0, \"year_Year\": \"1970-01-01T00:00:00.000\"}, {\"Cylinders\": 6, \"Miles_per_Gallon\": 18.0, \"year_Year\": \"1970-01-01T00:00:00.000\"}, {\"Cylinders\": 6, \"Miles_per_Gallon\": 21.0, \"year_Year\": \"1970-01-01T00:00:00.000\"}, {\"Cylinders\": 4, \"Miles_per_Gallon\": 27.0, \"year_Year\": \"1970-01-01T00:00:00.000\"}, {\"Cylinders\": 4, \"Miles_per_Gallon\": 26.0, \"year_Year\": \"1970-01-01T00:00:00.000\"}, {\"Cylinders\": 4, \"Miles_per_Gallon\": 25.0, \"year_Year\": \"1970-01-01T00:00:00.000\"}, {\"Cylinders\": 4, \"Miles_per_Gallon\": 24.0, \"year_Year\": \"1970-01-01T00:00:00.000\"}, {\"Cylinders\": 4, \"Miles_per_Gallon\": 25.0, \"year_Year\": \"1970-01-01T00:00:00.000\"}, {\"Cylinders\": 4, \"Miles_per_Gallon\": 26.0, \"year_Year\": \"1970-01-01T00:00:00.000\"}, {\"Cylinders\": 6, \"Miles_per_Gallon\": 21.0, \"year_Year\": \"1970-01-01T00:00:00.000\"}, {\"Cylinders\": 8, \"Miles_per_Gallon\": 10.0, \"year_Year\": \"1970-01-01T00:00:00.000\"}, {\"Cylinders\": 8, \"Miles_per_Gallon\": 10.0, \"year_Year\": \"1970-01-01T00:00:00.000\"}, {\"Cylinders\": 8, \"Miles_per_Gallon\": 11.0, \"year_Year\": \"1970-01-01T00:00:00.000\"}, {\"Cylinders\": 8, \"Miles_per_Gallon\": 9.0, \"year_Year\": \"1970-01-01T00:00:00.000\"}, {\"Cylinders\": 4, \"Miles_per_Gallon\": 27.0, \"year_Year\": \"1971-01-01T00:00:00.000\"}, {\"Cylinders\": 4, \"Miles_per_Gallon\": 28.0, \"year_Year\": \"1971-01-01T00:00:00.000\"}, {\"Cylinders\": 4, \"Miles_per_Gallon\": 25.0, \"year_Year\": \"1971-01-01T00:00:00.000\"}, {\"Cylinders\": 4, \"Miles_per_Gallon\": 25.0, \"year_Year\": \"1971-01-01T00:00:00.000\"}, {\"Cylinders\": 6, \"Miles_per_Gallon\": 19.0, \"year_Year\": \"1971-01-01T00:00:00.000\"}, {\"Cylinders\": 6, \"Miles_per_Gallon\": 16.0, \"year_Year\": \"1971-01-01T00:00:00.000\"}, {\"Cylinders\": 6, \"Miles_per_Gallon\": 17.0, \"year_Year\": \"1971-01-01T00:00:00.000\"}, {\"Cylinders\": 6, \"Miles_per_Gallon\": 19.0, \"year_Year\": \"1971-01-01T00:00:00.000\"}, {\"Cylinders\": 6, \"Miles_per_Gallon\": 18.0, \"year_Year\": \"1971-01-01T00:00:00.000\"}, {\"Cylinders\": 8, \"Miles_per_Gallon\": 14.0, \"year_Year\": \"1971-01-01T00:00:00.000\"}, {\"Cylinders\": 8, \"Miles_per_Gallon\": 14.0, \"year_Year\": \"1971-01-01T00:00:00.000\"}, {\"Cylinders\": 8, \"Miles_per_Gallon\": 14.0, \"year_Year\": \"1971-01-01T00:00:00.000\"}, {\"Cylinders\": 8, \"Miles_per_Gallon\": 14.0, \"year_Year\": \"1971-01-01T00:00:00.000\"}, {\"Cylinders\": 8, \"Miles_per_Gallon\": 12.0, \"year_Year\": \"1971-01-01T00:00:00.000\"}, {\"Cylinders\": 8, \"Miles_per_Gallon\": 13.0, \"year_Year\": \"1971-01-01T00:00:00.000\"}, {\"Cylinders\": 8, \"Miles_per_Gallon\": 13.0, \"year_Year\": \"1971-01-01T00:00:00.000\"}, {\"Cylinders\": 6, \"Miles_per_Gallon\": 18.0, \"year_Year\": \"1971-01-01T00:00:00.000\"}, {\"Cylinders\": 4, \"Miles_per_Gallon\": 22.0, \"year_Year\": \"1971-01-01T00:00:00.000\"}, {\"Cylinders\": 6, \"Miles_per_Gallon\": 19.0, \"year_Year\": \"1971-01-01T00:00:00.000\"}, {\"Cylinders\": 6, \"Miles_per_Gallon\": 18.0, \"year_Year\": \"1971-01-01T00:00:00.000\"}, {\"Cylinders\": 4, \"Miles_per_Gallon\": 23.0, \"year_Year\": \"1971-01-01T00:00:00.000\"}, {\"Cylinders\": 4, \"Miles_per_Gallon\": 28.0, \"year_Year\": \"1971-01-01T00:00:00.000\"}, {\"Cylinders\": 4, \"Miles_per_Gallon\": 30.0, \"year_Year\": \"1971-01-01T00:00:00.000\"}, {\"Cylinders\": 4, \"Miles_per_Gallon\": 30.0, \"year_Year\": \"1971-01-01T00:00:00.000\"}, {\"Cylinders\": 4, \"Miles_per_Gallon\": 31.0, \"year_Year\": \"1971-01-01T00:00:00.000\"}, {\"Cylinders\": 4, \"Miles_per_Gallon\": 35.0, \"year_Year\": \"1971-01-01T00:00:00.000\"}, {\"Cylinders\": 4, \"Miles_per_Gallon\": 27.0, \"year_Year\": \"1971-01-01T00:00:00.000\"}, {\"Cylinders\": 4, \"Miles_per_Gallon\": 26.0, \"year_Year\": \"1971-01-01T00:00:00.000\"}, {\"Cylinders\": 4, \"Miles_per_Gallon\": 24.0, \"year_Year\": \"1972-01-01T00:00:00.000\"}, {\"Cylinders\": 4, \"Miles_per_Gallon\": 25.0, \"year_Year\": \"1972-01-01T00:00:00.000\"}, {\"Cylinders\": 4, \"Miles_per_Gallon\": 23.0, \"year_Year\": \"1972-01-01T00:00:00.000\"}, {\"Cylinders\": 4, \"Miles_per_Gallon\": 20.0, \"year_Year\": \"1972-01-01T00:00:00.000\"}, {\"Cylinders\": 4, \"Miles_per_Gallon\": 21.0, \"year_Year\": \"1972-01-01T00:00:00.000\"}, {\"Cylinders\": 8, \"Miles_per_Gallon\": 13.0, \"year_Year\": \"1972-01-01T00:00:00.000\"}, {\"Cylinders\": 8, \"Miles_per_Gallon\": 14.0, \"year_Year\": \"1972-01-01T00:00:00.000\"}, {\"Cylinders\": 8, \"Miles_per_Gallon\": 15.0, \"year_Year\": \"1972-01-01T00:00:00.000\"}, {\"Cylinders\": 8, \"Miles_per_Gallon\": 14.0, \"year_Year\": \"1972-01-01T00:00:00.000\"}, {\"Cylinders\": 8, \"Miles_per_Gallon\": 17.0, \"year_Year\": \"1972-01-01T00:00:00.000\"}, {\"Cylinders\": 8, \"Miles_per_Gallon\": 11.0, \"year_Year\": \"1972-01-01T00:00:00.000\"}, {\"Cylinders\": 8, \"Miles_per_Gallon\": 13.0, \"year_Year\": \"1972-01-01T00:00:00.000\"}, {\"Cylinders\": 8, \"Miles_per_Gallon\": 12.0, \"year_Year\": \"1972-01-01T00:00:00.000\"}, {\"Cylinders\": 8, \"Miles_per_Gallon\": 13.0, \"year_Year\": \"1972-01-01T00:00:00.000\"}, {\"Cylinders\": 3, \"Miles_per_Gallon\": 19.0, \"year_Year\": \"1972-01-01T00:00:00.000\"}, {\"Cylinders\": 8, \"Miles_per_Gallon\": 15.0, \"year_Year\": \"1972-01-01T00:00:00.000\"}, {\"Cylinders\": 8, \"Miles_per_Gallon\": 13.0, \"year_Year\": \"1972-01-01T00:00:00.000\"}, {\"Cylinders\": 8, \"Miles_per_Gallon\": 13.0, \"year_Year\": \"1972-01-01T00:00:00.000\"}, {\"Cylinders\": 8, \"Miles_per_Gallon\": 14.0, \"year_Year\": \"1972-01-01T00:00:00.000\"}, {\"Cylinders\": 4, \"Miles_per_Gallon\": 18.0, \"year_Year\": \"1972-01-01T00:00:00.000\"}, {\"Cylinders\": 4, \"Miles_per_Gallon\": 22.0, \"year_Year\": \"1972-01-01T00:00:00.000\"}, {\"Cylinders\": 4, \"Miles_per_Gallon\": 21.0, \"year_Year\": \"1972-01-01T00:00:00.000\"}, {\"Cylinders\": 4, \"Miles_per_Gallon\": 26.0, \"year_Year\": \"1972-01-01T00:00:00.000\"}, {\"Cylinders\": 4, \"Miles_per_Gallon\": 22.0, \"year_Year\": \"1972-01-01T00:00:00.000\"}, {\"Cylinders\": 4, \"Miles_per_Gallon\": 28.0, \"year_Year\": \"1972-01-01T00:00:00.000\"}, {\"Cylinders\": 4, \"Miles_per_Gallon\": 23.0, \"year_Year\": \"1972-01-01T00:00:00.000\"}, {\"Cylinders\": 4, \"Miles_per_Gallon\": 28.0, \"year_Year\": \"1972-01-01T00:00:00.000\"}, {\"Cylinders\": 4, \"Miles_per_Gallon\": 27.0, \"year_Year\": \"1972-01-01T00:00:00.000\"}, {\"Cylinders\": 8, \"Miles_per_Gallon\": 13.0, \"year_Year\": \"1973-01-01T00:00:00.000\"}, {\"Cylinders\": 8, \"Miles_per_Gallon\": 14.0, \"year_Year\": \"1973-01-01T00:00:00.000\"}, {\"Cylinders\": 8, \"Miles_per_Gallon\": 13.0, \"year_Year\": \"1973-01-01T00:00:00.000\"}, {\"Cylinders\": 8, \"Miles_per_Gallon\": 14.0, \"year_Year\": \"1973-01-01T00:00:00.000\"}, {\"Cylinders\": 8, \"Miles_per_Gallon\": 15.0, \"year_Year\": \"1973-01-01T00:00:00.000\"}, {\"Cylinders\": 8, \"Miles_per_Gallon\": 12.0, \"year_Year\": \"1973-01-01T00:00:00.000\"}, {\"Cylinders\": 8, \"Miles_per_Gallon\": 13.0, \"year_Year\": \"1973-01-01T00:00:00.000\"}, {\"Cylinders\": 8, \"Miles_per_Gallon\": 13.0, \"year_Year\": \"1973-01-01T00:00:00.000\"}, {\"Cylinders\": 8, \"Miles_per_Gallon\": 14.0, \"year_Year\": \"1973-01-01T00:00:00.000\"}, {\"Cylinders\": 8, \"Miles_per_Gallon\": 13.0, \"year_Year\": \"1973-01-01T00:00:00.000\"}, {\"Cylinders\": 8, \"Miles_per_Gallon\": 12.0, \"year_Year\": \"1973-01-01T00:00:00.000\"}, {\"Cylinders\": 8, \"Miles_per_Gallon\": 13.0, \"year_Year\": \"1973-01-01T00:00:00.000\"}, {\"Cylinders\": 6, \"Miles_per_Gallon\": 18.0, \"year_Year\": \"1973-01-01T00:00:00.000\"}, {\"Cylinders\": 6, \"Miles_per_Gallon\": 16.0, \"year_Year\": \"1973-01-01T00:00:00.000\"}, {\"Cylinders\": 6, \"Miles_per_Gallon\": 18.0, \"year_Year\": \"1973-01-01T00:00:00.000\"}, {\"Cylinders\": 6, \"Miles_per_Gallon\": 18.0, \"year_Year\": \"1973-01-01T00:00:00.000\"}, {\"Cylinders\": 6, \"Miles_per_Gallon\": 23.0, \"year_Year\": \"1973-01-01T00:00:00.000\"}, {\"Cylinders\": 4, \"Miles_per_Gallon\": 26.0, \"year_Year\": \"1973-01-01T00:00:00.000\"}, {\"Cylinders\": 8, \"Miles_per_Gallon\": 11.0, \"year_Year\": \"1973-01-01T00:00:00.000\"}, {\"Cylinders\": 8, \"Miles_per_Gallon\": 12.0, \"year_Year\": \"1973-01-01T00:00:00.000\"}, {\"Cylinders\": 8, \"Miles_per_Gallon\": 13.0, \"year_Year\": \"1973-01-01T00:00:00.000\"}, {\"Cylinders\": 8, \"Miles_per_Gallon\": 12.0, \"year_Year\": \"1973-01-01T00:00:00.000\"}, {\"Cylinders\": 6, \"Miles_per_Gallon\": 18.0, \"year_Year\": \"1973-01-01T00:00:00.000\"}, {\"Cylinders\": 4, \"Miles_per_Gallon\": 20.0, \"year_Year\": \"1973-01-01T00:00:00.000\"}, {\"Cylinders\": 4, \"Miles_per_Gallon\": 21.0, \"year_Year\": \"1973-01-01T00:00:00.000\"}, {\"Cylinders\": 4, \"Miles_per_Gallon\": 22.0, \"year_Year\": \"1973-01-01T00:00:00.000\"}, {\"Cylinders\": 3, \"Miles_per_Gallon\": 18.0, \"year_Year\": \"1973-01-01T00:00:00.000\"}, {\"Cylinders\": 4, \"Miles_per_Gallon\": 19.0, \"year_Year\": \"1973-01-01T00:00:00.000\"}, {\"Cylinders\": 6, \"Miles_per_Gallon\": 21.0, \"year_Year\": \"1973-01-01T00:00:00.000\"}, {\"Cylinders\": 4, \"Miles_per_Gallon\": 26.0, \"year_Year\": \"1973-01-01T00:00:00.000\"}, {\"Cylinders\": 8, \"Miles_per_Gallon\": 15.0, \"year_Year\": \"1973-01-01T00:00:00.000\"}, {\"Cylinders\": 8, \"Miles_per_Gallon\": 16.0, \"year_Year\": \"1973-01-01T00:00:00.000\"}, {\"Cylinders\": 4, \"Miles_per_Gallon\": 29.0, \"year_Year\": \"1973-01-01T00:00:00.000\"}, {\"Cylinders\": 4, \"Miles_per_Gallon\": 24.0, \"year_Year\": \"1973-01-01T00:00:00.000\"}, {\"Cylinders\": 4, \"Miles_per_Gallon\": 20.0, \"year_Year\": \"1973-01-01T00:00:00.000\"}, {\"Cylinders\": 4, \"Miles_per_Gallon\": 19.0, \"year_Year\": \"1973-01-01T00:00:00.000\"}, {\"Cylinders\": 8, \"Miles_per_Gallon\": 15.0, \"year_Year\": \"1973-01-01T00:00:00.000\"}, {\"Cylinders\": 4, \"Miles_per_Gallon\": 24.0, \"year_Year\": \"1973-01-01T00:00:00.000\"}, {\"Cylinders\": 6, \"Miles_per_Gallon\": 20.0, \"year_Year\": \"1973-01-01T00:00:00.000\"}, {\"Cylinders\": 8, \"Miles_per_Gallon\": 11.0, \"year_Year\": \"1973-01-01T00:00:00.000\"}, {\"Cylinders\": 6, \"Miles_per_Gallon\": 20.0, \"year_Year\": \"1974-01-01T00:00:00.000\"}, {\"Cylinders\": 6, \"Miles_per_Gallon\": 21.0, \"year_Year\": \"1974-01-01T00:00:00.000\"}, {\"Cylinders\": 6, \"Miles_per_Gallon\": 19.0, \"year_Year\": \"1974-01-01T00:00:00.000\"}, {\"Cylinders\": 6, \"Miles_per_Gallon\": 15.0, \"year_Year\": \"1974-01-01T00:00:00.000\"}, {\"Cylinders\": 4, \"Miles_per_Gallon\": 31.0, \"year_Year\": \"1974-01-01T00:00:00.000\"}, {\"Cylinders\": 4, \"Miles_per_Gallon\": 26.0, \"year_Year\": \"1974-01-01T00:00:00.000\"}, {\"Cylinders\": 4, \"Miles_per_Gallon\": 32.0, \"year_Year\": \"1974-01-01T00:00:00.000\"}, {\"Cylinders\": 4, \"Miles_per_Gallon\": 25.0, \"year_Year\": \"1974-01-01T00:00:00.000\"}, {\"Cylinders\": 6, \"Miles_per_Gallon\": 16.0, \"year_Year\": \"1974-01-01T00:00:00.000\"}, {\"Cylinders\": 6, \"Miles_per_Gallon\": 16.0, \"year_Year\": \"1974-01-01T00:00:00.000\"}, {\"Cylinders\": 6, \"Miles_per_Gallon\": 18.0, \"year_Year\": \"1974-01-01T00:00:00.000\"}, {\"Cylinders\": 8, \"Miles_per_Gallon\": 16.0, \"year_Year\": \"1974-01-01T00:00:00.000\"}, {\"Cylinders\": 8, \"Miles_per_Gallon\": 13.0, \"year_Year\": \"1974-01-01T00:00:00.000\"}, {\"Cylinders\": 8, \"Miles_per_Gallon\": 14.0, \"year_Year\": \"1974-01-01T00:00:00.000\"}, {\"Cylinders\": 8, \"Miles_per_Gallon\": 14.0, \"year_Year\": \"1974-01-01T00:00:00.000\"}, {\"Cylinders\": 8, \"Miles_per_Gallon\": 14.0, \"year_Year\": \"1974-01-01T00:00:00.000\"}, {\"Cylinders\": 4, \"Miles_per_Gallon\": 29.0, \"year_Year\": \"1974-01-01T00:00:00.000\"}, {\"Cylinders\": 4, \"Miles_per_Gallon\": 26.0, \"year_Year\": \"1974-01-01T00:00:00.000\"}, {\"Cylinders\": 4, \"Miles_per_Gallon\": 26.0, \"year_Year\": \"1974-01-01T00:00:00.000\"}, {\"Cylinders\": 4, \"Miles_per_Gallon\": 31.0, \"year_Year\": \"1974-01-01T00:00:00.000\"}, {\"Cylinders\": 4, \"Miles_per_Gallon\": 32.0, \"year_Year\": \"1974-01-01T00:00:00.000\"}, {\"Cylinders\": 4, \"Miles_per_Gallon\": 28.0, \"year_Year\": \"1974-01-01T00:00:00.000\"}, {\"Cylinders\": 4, \"Miles_per_Gallon\": 24.0, \"year_Year\": \"1974-01-01T00:00:00.000\"}, {\"Cylinders\": 4, \"Miles_per_Gallon\": 26.0, \"year_Year\": \"1974-01-01T00:00:00.000\"}, {\"Cylinders\": 4, \"Miles_per_Gallon\": 24.0, \"year_Year\": \"1974-01-01T00:00:00.000\"}, {\"Cylinders\": 4, \"Miles_per_Gallon\": 26.0, \"year_Year\": \"1974-01-01T00:00:00.000\"}, {\"Cylinders\": 4, \"Miles_per_Gallon\": 31.0, \"year_Year\": \"1974-01-01T00:00:00.000\"}, {\"Cylinders\": 6, \"Miles_per_Gallon\": 19.0, \"year_Year\": \"1975-01-01T00:00:00.000\"}, {\"Cylinders\": 6, \"Miles_per_Gallon\": 18.0, \"year_Year\": \"1975-01-01T00:00:00.000\"}, {\"Cylinders\": 6, \"Miles_per_Gallon\": 15.0, \"year_Year\": \"1975-01-01T00:00:00.000\"}, {\"Cylinders\": 6, \"Miles_per_Gallon\": 15.0, \"year_Year\": \"1975-01-01T00:00:00.000\"}, {\"Cylinders\": 8, \"Miles_per_Gallon\": 16.0, \"year_Year\": \"1975-01-01T00:00:00.000\"}, {\"Cylinders\": 8, \"Miles_per_Gallon\": 15.0, \"year_Year\": \"1975-01-01T00:00:00.000\"}, {\"Cylinders\": 8, \"Miles_per_Gallon\": 16.0, \"year_Year\": \"1975-01-01T00:00:00.000\"}, {\"Cylinders\": 8, \"Miles_per_Gallon\": 14.0, \"year_Year\": \"1975-01-01T00:00:00.000\"}, {\"Cylinders\": 6, \"Miles_per_Gallon\": 17.0, \"year_Year\": \"1975-01-01T00:00:00.000\"}, {\"Cylinders\": 6, \"Miles_per_Gallon\": 16.0, \"year_Year\": \"1975-01-01T00:00:00.000\"}, {\"Cylinders\": 6, \"Miles_per_Gallon\": 15.0, \"year_Year\": \"1975-01-01T00:00:00.000\"}, {\"Cylinders\": 6, \"Miles_per_Gallon\": 18.0, \"year_Year\": \"1975-01-01T00:00:00.000\"}, {\"Cylinders\": 6, \"Miles_per_Gallon\": 21.0, \"year_Year\": \"1975-01-01T00:00:00.000\"}, {\"Cylinders\": 8, \"Miles_per_Gallon\": 20.0, \"year_Year\": \"1975-01-01T00:00:00.000\"}, {\"Cylinders\": 8, \"Miles_per_Gallon\": 13.0, \"year_Year\": \"1975-01-01T00:00:00.000\"}, {\"Cylinders\": 4, \"Miles_per_Gallon\": 29.0, \"year_Year\": \"1975-01-01T00:00:00.000\"}, {\"Cylinders\": 4, \"Miles_per_Gallon\": 23.0, \"year_Year\": \"1975-01-01T00:00:00.000\"}, {\"Cylinders\": 6, \"Miles_per_Gallon\": 20.0, \"year_Year\": \"1975-01-01T00:00:00.000\"}, {\"Cylinders\": 4, \"Miles_per_Gallon\": 23.0, \"year_Year\": \"1975-01-01T00:00:00.000\"}, {\"Cylinders\": 4, \"Miles_per_Gallon\": 24.0, \"year_Year\": \"1975-01-01T00:00:00.000\"}, {\"Cylinders\": 4, \"Miles_per_Gallon\": 25.0, \"year_Year\": \"1975-01-01T00:00:00.000\"}, {\"Cylinders\": 4, \"Miles_per_Gallon\": 24.0, \"year_Year\": \"1975-01-01T00:00:00.000\"}, {\"Cylinders\": 6, \"Miles_per_Gallon\": 18.0, \"year_Year\": \"1975-01-01T00:00:00.000\"}, {\"Cylinders\": 4, \"Miles_per_Gallon\": 29.0, \"year_Year\": \"1975-01-01T00:00:00.000\"}, {\"Cylinders\": 6, \"Miles_per_Gallon\": 19.0, \"year_Year\": \"1975-01-01T00:00:00.000\"}, {\"Cylinders\": 4, \"Miles_per_Gallon\": 23.0, \"year_Year\": \"1975-01-01T00:00:00.000\"}, {\"Cylinders\": 4, \"Miles_per_Gallon\": 23.0, \"year_Year\": \"1975-01-01T00:00:00.000\"}, {\"Cylinders\": 4, \"Miles_per_Gallon\": 22.0, \"year_Year\": \"1975-01-01T00:00:00.000\"}, {\"Cylinders\": 4, \"Miles_per_Gallon\": 25.0, \"year_Year\": \"1975-01-01T00:00:00.000\"}, {\"Cylinders\": 4, \"Miles_per_Gallon\": 33.0, \"year_Year\": \"1975-01-01T00:00:00.000\"}, {\"Cylinders\": 4, \"Miles_per_Gallon\": 28.0, \"year_Year\": \"1976-01-01T00:00:00.000\"}, {\"Cylinders\": 4, \"Miles_per_Gallon\": 25.0, \"year_Year\": \"1976-01-01T00:00:00.000\"}, {\"Cylinders\": 4, \"Miles_per_Gallon\": 25.0, \"year_Year\": \"1976-01-01T00:00:00.000\"}, {\"Cylinders\": 4, \"Miles_per_Gallon\": 26.0, \"year_Year\": \"1976-01-01T00:00:00.000\"}, {\"Cylinders\": 4, \"Miles_per_Gallon\": 27.0, \"year_Year\": \"1976-01-01T00:00:00.000\"}, {\"Cylinders\": 8, \"Miles_per_Gallon\": 17.5, \"year_Year\": \"1976-01-01T00:00:00.000\"}, {\"Cylinders\": 8, \"Miles_per_Gallon\": 16.0, \"year_Year\": \"1976-01-01T00:00:00.000\"}, {\"Cylinders\": 8, \"Miles_per_Gallon\": 15.5, \"year_Year\": \"1976-01-01T00:00:00.000\"}, {\"Cylinders\": 8, \"Miles_per_Gallon\": 14.5, \"year_Year\": \"1976-01-01T00:00:00.000\"}, {\"Cylinders\": 6, \"Miles_per_Gallon\": 22.0, \"year_Year\": \"1976-01-01T00:00:00.000\"}, {\"Cylinders\": 6, \"Miles_per_Gallon\": 22.0, \"year_Year\": \"1976-01-01T00:00:00.000\"}, {\"Cylinders\": 6, \"Miles_per_Gallon\": 24.0, \"year_Year\": \"1976-01-01T00:00:00.000\"}, {\"Cylinders\": 6, \"Miles_per_Gallon\": 22.5, \"year_Year\": \"1976-01-01T00:00:00.000\"}, {\"Cylinders\": 4, \"Miles_per_Gallon\": 29.0, \"year_Year\": \"1976-01-01T00:00:00.000\"}, {\"Cylinders\": 4, \"Miles_per_Gallon\": 24.5, \"year_Year\": \"1976-01-01T00:00:00.000\"}, {\"Cylinders\": 4, \"Miles_per_Gallon\": 29.0, \"year_Year\": \"1976-01-01T00:00:00.000\"}, {\"Cylinders\": 4, \"Miles_per_Gallon\": 33.0, \"year_Year\": \"1976-01-01T00:00:00.000\"}, {\"Cylinders\": 6, \"Miles_per_Gallon\": 20.0, \"year_Year\": \"1976-01-01T00:00:00.000\"}, {\"Cylinders\": 6, \"Miles_per_Gallon\": 18.0, \"year_Year\": \"1976-01-01T00:00:00.000\"}, {\"Cylinders\": 6, \"Miles_per_Gallon\": 18.5, \"year_Year\": \"1976-01-01T00:00:00.000\"}, {\"Cylinders\": 6, \"Miles_per_Gallon\": 17.5, \"year_Year\": \"1976-01-01T00:00:00.000\"}, {\"Cylinders\": 4, \"Miles_per_Gallon\": 29.5, \"year_Year\": \"1976-01-01T00:00:00.000\"}, {\"Cylinders\": 4, \"Miles_per_Gallon\": 32.0, \"year_Year\": \"1976-01-01T00:00:00.000\"}, {\"Cylinders\": 4, \"Miles_per_Gallon\": 28.0, \"year_Year\": \"1976-01-01T00:00:00.000\"}, {\"Cylinders\": 4, \"Miles_per_Gallon\": 26.5, \"year_Year\": \"1976-01-01T00:00:00.000\"}, {\"Cylinders\": 4, \"Miles_per_Gallon\": 20.0, \"year_Year\": \"1976-01-01T00:00:00.000\"}, {\"Cylinders\": 8, \"Miles_per_Gallon\": 13.0, \"year_Year\": \"1976-01-01T00:00:00.000\"}, {\"Cylinders\": 4, \"Miles_per_Gallon\": 19.0, \"year_Year\": \"1976-01-01T00:00:00.000\"}, {\"Cylinders\": 6, \"Miles_per_Gallon\": 19.0, \"year_Year\": \"1976-01-01T00:00:00.000\"}, {\"Cylinders\": 6, \"Miles_per_Gallon\": 16.5, \"year_Year\": \"1976-01-01T00:00:00.000\"}, {\"Cylinders\": 8, \"Miles_per_Gallon\": 16.5, \"year_Year\": \"1976-01-01T00:00:00.000\"}, {\"Cylinders\": 8, \"Miles_per_Gallon\": 13.0, \"year_Year\": \"1976-01-01T00:00:00.000\"}, {\"Cylinders\": 8, \"Miles_per_Gallon\": 13.0, \"year_Year\": \"1976-01-01T00:00:00.000\"}, {\"Cylinders\": 8, \"Miles_per_Gallon\": 13.0, \"year_Year\": \"1976-01-01T00:00:00.000\"}, {\"Cylinders\": 4, \"Miles_per_Gallon\": 31.5, \"year_Year\": \"1977-01-01T00:00:00.000\"}, {\"Cylinders\": 4, \"Miles_per_Gallon\": 30.0, \"year_Year\": \"1977-01-01T00:00:00.000\"}, {\"Cylinders\": 4, \"Miles_per_Gallon\": 36.0, \"year_Year\": \"1977-01-01T00:00:00.000\"}, {\"Cylinders\": 4, \"Miles_per_Gallon\": 25.5, \"year_Year\": \"1977-01-01T00:00:00.000\"}, {\"Cylinders\": 4, \"Miles_per_Gallon\": 33.5, \"year_Year\": \"1977-01-01T00:00:00.000\"}, {\"Cylinders\": 8, \"Miles_per_Gallon\": 17.5, \"year_Year\": \"1977-01-01T00:00:00.000\"}, {\"Cylinders\": 8, \"Miles_per_Gallon\": 17.0, \"year_Year\": \"1977-01-01T00:00:00.000\"}, {\"Cylinders\": 8, \"Miles_per_Gallon\": 15.5, \"year_Year\": \"1977-01-01T00:00:00.000\"}, {\"Cylinders\": 8, \"Miles_per_Gallon\": 15.0, \"year_Year\": \"1977-01-01T00:00:00.000\"}, {\"Cylinders\": 6, \"Miles_per_Gallon\": 17.5, \"year_Year\": \"1977-01-01T00:00:00.000\"}, {\"Cylinders\": 6, \"Miles_per_Gallon\": 20.5, \"year_Year\": \"1977-01-01T00:00:00.000\"}, {\"Cylinders\": 6, \"Miles_per_Gallon\": 19.0, \"year_Year\": \"1977-01-01T00:00:00.000\"}, {\"Cylinders\": 6, \"Miles_per_Gallon\": 18.5, \"year_Year\": \"1977-01-01T00:00:00.000\"}, {\"Cylinders\": 8, \"Miles_per_Gallon\": 16.0, \"year_Year\": \"1977-01-01T00:00:00.000\"}, {\"Cylinders\": 8, \"Miles_per_Gallon\": 15.5, \"year_Year\": \"1977-01-01T00:00:00.000\"}, {\"Cylinders\": 8, \"Miles_per_Gallon\": 15.5, \"year_Year\": \"1977-01-01T00:00:00.000\"}, {\"Cylinders\": 8, \"Miles_per_Gallon\": 16.0, \"year_Year\": \"1977-01-01T00:00:00.000\"}, {\"Cylinders\": 4, \"Miles_per_Gallon\": 29.0, \"year_Year\": \"1977-01-01T00:00:00.000\"}, {\"Cylinders\": 4, \"Miles_per_Gallon\": 24.5, \"year_Year\": \"1977-01-01T00:00:00.000\"}, {\"Cylinders\": 4, \"Miles_per_Gallon\": 26.0, \"year_Year\": \"1977-01-01T00:00:00.000\"}, {\"Cylinders\": 4, \"Miles_per_Gallon\": 25.5, \"year_Year\": \"1977-01-01T00:00:00.000\"}, {\"Cylinders\": 4, \"Miles_per_Gallon\": 30.5, \"year_Year\": \"1977-01-01T00:00:00.000\"}, {\"Cylinders\": 4, \"Miles_per_Gallon\": 33.5, \"year_Year\": \"1977-01-01T00:00:00.000\"}, {\"Cylinders\": 4, \"Miles_per_Gallon\": 30.0, \"year_Year\": \"1977-01-01T00:00:00.000\"}, {\"Cylinders\": 4, \"Miles_per_Gallon\": 30.5, \"year_Year\": \"1977-01-01T00:00:00.000\"}, {\"Cylinders\": 6, \"Miles_per_Gallon\": 22.0, \"year_Year\": \"1977-01-01T00:00:00.000\"}, {\"Cylinders\": 4, \"Miles_per_Gallon\": 21.5, \"year_Year\": \"1977-01-01T00:00:00.000\"}, {\"Cylinders\": 3, \"Miles_per_Gallon\": 21.5, \"year_Year\": \"1977-01-01T00:00:00.000\"}, {\"Cylinders\": 4, \"Miles_per_Gallon\": 43.1, \"year_Year\": \"1978-01-01T00:00:00.000\"}, {\"Cylinders\": 4, \"Miles_per_Gallon\": 36.1, \"year_Year\": \"1978-01-01T00:00:00.000\"}, {\"Cylinders\": 4, \"Miles_per_Gallon\": 32.8, \"year_Year\": \"1978-01-01T00:00:00.000\"}, {\"Cylinders\": 4, \"Miles_per_Gallon\": 39.4, \"year_Year\": \"1978-01-01T00:00:00.000\"}, {\"Cylinders\": 4, \"Miles_per_Gallon\": 36.1, \"year_Year\": \"1978-01-01T00:00:00.000\"}, {\"Cylinders\": 8, \"Miles_per_Gallon\": 19.9, \"year_Year\": \"1978-01-01T00:00:00.000\"}, {\"Cylinders\": 8, \"Miles_per_Gallon\": 19.4, \"year_Year\": \"1978-01-01T00:00:00.000\"}, {\"Cylinders\": 8, \"Miles_per_Gallon\": 20.2, \"year_Year\": \"1978-01-01T00:00:00.000\"}, {\"Cylinders\": 6, \"Miles_per_Gallon\": 19.2, \"year_Year\": \"1978-01-01T00:00:00.000\"}, {\"Cylinders\": 6, \"Miles_per_Gallon\": 20.5, \"year_Year\": \"1978-01-01T00:00:00.000\"}, {\"Cylinders\": 6, \"Miles_per_Gallon\": 20.2, \"year_Year\": \"1978-01-01T00:00:00.000\"}, {\"Cylinders\": 4, \"Miles_per_Gallon\": 25.1, \"year_Year\": \"1978-01-01T00:00:00.000\"}, {\"Cylinders\": 6, \"Miles_per_Gallon\": 20.5, \"year_Year\": \"1978-01-01T00:00:00.000\"}, {\"Cylinders\": 6, \"Miles_per_Gallon\": 19.4, \"year_Year\": \"1978-01-01T00:00:00.000\"}, {\"Cylinders\": 6, \"Miles_per_Gallon\": 20.6, \"year_Year\": \"1978-01-01T00:00:00.000\"}, {\"Cylinders\": 6, \"Miles_per_Gallon\": 20.8, \"year_Year\": \"1978-01-01T00:00:00.000\"}, {\"Cylinders\": 6, \"Miles_per_Gallon\": 18.6, \"year_Year\": \"1978-01-01T00:00:00.000\"}, {\"Cylinders\": 6, \"Miles_per_Gallon\": 18.1, \"year_Year\": \"1978-01-01T00:00:00.000\"}, {\"Cylinders\": 8, \"Miles_per_Gallon\": 19.2, \"year_Year\": \"1978-01-01T00:00:00.000\"}, {\"Cylinders\": 6, \"Miles_per_Gallon\": 17.7, \"year_Year\": \"1978-01-01T00:00:00.000\"}, {\"Cylinders\": 8, \"Miles_per_Gallon\": 18.1, \"year_Year\": \"1978-01-01T00:00:00.000\"}, {\"Cylinders\": 8, \"Miles_per_Gallon\": 17.5, \"year_Year\": \"1978-01-01T00:00:00.000\"}, {\"Cylinders\": 4, \"Miles_per_Gallon\": 30.0, \"year_Year\": \"1978-01-01T00:00:00.000\"}, {\"Cylinders\": 4, \"Miles_per_Gallon\": 27.5, \"year_Year\": \"1978-01-01T00:00:00.000\"}, {\"Cylinders\": 4, \"Miles_per_Gallon\": 27.2, \"year_Year\": \"1978-01-01T00:00:00.000\"}, {\"Cylinders\": 4, \"Miles_per_Gallon\": 30.9, \"year_Year\": \"1978-01-01T00:00:00.000\"}, {\"Cylinders\": 4, \"Miles_per_Gallon\": 21.1, \"year_Year\": \"1978-01-01T00:00:00.000\"}, {\"Cylinders\": 4, \"Miles_per_Gallon\": 23.2, \"year_Year\": \"1978-01-01T00:00:00.000\"}, {\"Cylinders\": 4, \"Miles_per_Gallon\": 23.8, \"year_Year\": \"1978-01-01T00:00:00.000\"}, {\"Cylinders\": 4, \"Miles_per_Gallon\": 23.9, \"year_Year\": \"1978-01-01T00:00:00.000\"}, {\"Cylinders\": 5, \"Miles_per_Gallon\": 20.3, \"year_Year\": \"1978-01-01T00:00:00.000\"}, {\"Cylinders\": 6, \"Miles_per_Gallon\": 17.0, \"year_Year\": \"1978-01-01T00:00:00.000\"}, {\"Cylinders\": 4, \"Miles_per_Gallon\": 21.6, \"year_Year\": \"1978-01-01T00:00:00.000\"}, {\"Cylinders\": 6, \"Miles_per_Gallon\": 16.2, \"year_Year\": \"1978-01-01T00:00:00.000\"}, {\"Cylinders\": 4, \"Miles_per_Gallon\": 31.5, \"year_Year\": \"1978-01-01T00:00:00.000\"}, {\"Cylinders\": 4, \"Miles_per_Gallon\": 29.5, \"year_Year\": \"1978-01-01T00:00:00.000\"}, {\"Cylinders\": 6, \"Miles_per_Gallon\": 21.5, \"year_Year\": \"1979-01-01T00:00:00.000\"}, {\"Cylinders\": 6, \"Miles_per_Gallon\": 19.8, \"year_Year\": \"1979-01-01T00:00:00.000\"}, {\"Cylinders\": 4, \"Miles_per_Gallon\": 22.3, \"year_Year\": \"1979-01-01T00:00:00.000\"}, {\"Cylinders\": 6, \"Miles_per_Gallon\": 20.2, \"year_Year\": \"1979-01-01T00:00:00.000\"}, {\"Cylinders\": 6, \"Miles_per_Gallon\": 20.6, \"year_Year\": \"1979-01-01T00:00:00.000\"}, {\"Cylinders\": 8, \"Miles_per_Gallon\": 17.0, \"year_Year\": \"1979-01-01T00:00:00.000\"}, {\"Cylinders\": 8, \"Miles_per_Gallon\": 17.6, \"year_Year\": \"1979-01-01T00:00:00.000\"}, {\"Cylinders\": 8, \"Miles_per_Gallon\": 16.5, \"year_Year\": \"1979-01-01T00:00:00.000\"}, {\"Cylinders\": 8, \"Miles_per_Gallon\": 18.2, \"year_Year\": \"1979-01-01T00:00:00.000\"}, {\"Cylinders\": 8, \"Miles_per_Gallon\": 16.9, \"year_Year\": \"1979-01-01T00:00:00.000\"}, {\"Cylinders\": 8, \"Miles_per_Gallon\": 15.5, \"year_Year\": \"1979-01-01T00:00:00.000\"}, {\"Cylinders\": 8, \"Miles_per_Gallon\": 19.2, \"year_Year\": \"1979-01-01T00:00:00.000\"}, {\"Cylinders\": 8, \"Miles_per_Gallon\": 18.5, \"year_Year\": \"1979-01-01T00:00:00.000\"}, {\"Cylinders\": 4, \"Miles_per_Gallon\": 31.9, \"year_Year\": \"1979-01-01T00:00:00.000\"}, {\"Cylinders\": 4, \"Miles_per_Gallon\": 34.1, \"year_Year\": \"1979-01-01T00:00:00.000\"}, {\"Cylinders\": 4, \"Miles_per_Gallon\": 35.7, \"year_Year\": \"1979-01-01T00:00:00.000\"}, {\"Cylinders\": 4, \"Miles_per_Gallon\": 27.4, \"year_Year\": \"1979-01-01T00:00:00.000\"}, {\"Cylinders\": 5, \"Miles_per_Gallon\": 25.4, \"year_Year\": \"1979-01-01T00:00:00.000\"}, {\"Cylinders\": 8, \"Miles_per_Gallon\": 23.0, \"year_Year\": \"1979-01-01T00:00:00.000\"}, {\"Cylinders\": 4, \"Miles_per_Gallon\": 27.2, \"year_Year\": \"1979-01-01T00:00:00.000\"}, {\"Cylinders\": 8, \"Miles_per_Gallon\": 23.9, \"year_Year\": \"1979-01-01T00:00:00.000\"}, {\"Cylinders\": 4, \"Miles_per_Gallon\": 34.2, \"year_Year\": \"1979-01-01T00:00:00.000\"}, {\"Cylinders\": 4, \"Miles_per_Gallon\": 34.5, \"year_Year\": \"1979-01-01T00:00:00.000\"}, {\"Cylinders\": 4, \"Miles_per_Gallon\": 31.8, \"year_Year\": \"1979-01-01T00:00:00.000\"}, {\"Cylinders\": 4, \"Miles_per_Gallon\": 37.3, \"year_Year\": \"1979-01-01T00:00:00.000\"}, {\"Cylinders\": 4, \"Miles_per_Gallon\": 28.4, \"year_Year\": \"1979-01-01T00:00:00.000\"}, {\"Cylinders\": 6, \"Miles_per_Gallon\": 28.8, \"year_Year\": \"1979-01-01T00:00:00.000\"}, {\"Cylinders\": 6, \"Miles_per_Gallon\": 26.8, \"year_Year\": \"1979-01-01T00:00:00.000\"}, {\"Cylinders\": 4, \"Miles_per_Gallon\": 33.5, \"year_Year\": \"1979-01-01T00:00:00.000\"}, {\"Cylinders\": 4, \"Miles_per_Gallon\": 41.5, \"year_Year\": \"1980-01-01T00:00:00.000\"}, {\"Cylinders\": 4, \"Miles_per_Gallon\": 38.1, \"year_Year\": \"1980-01-01T00:00:00.000\"}, {\"Cylinders\": 4, \"Miles_per_Gallon\": 32.1, \"year_Year\": \"1980-01-01T00:00:00.000\"}, {\"Cylinders\": 4, \"Miles_per_Gallon\": 37.2, \"year_Year\": \"1980-01-01T00:00:00.000\"}, {\"Cylinders\": 4, \"Miles_per_Gallon\": 28.0, \"year_Year\": \"1980-01-01T00:00:00.000\"}, {\"Cylinders\": 4, \"Miles_per_Gallon\": 26.4, \"year_Year\": \"1980-01-01T00:00:00.000\"}, {\"Cylinders\": 4, \"Miles_per_Gallon\": 24.3, \"year_Year\": \"1980-01-01T00:00:00.000\"}, {\"Cylinders\": 6, \"Miles_per_Gallon\": 19.1, \"year_Year\": \"1980-01-01T00:00:00.000\"}, {\"Cylinders\": 4, \"Miles_per_Gallon\": 34.3, \"year_Year\": \"1980-01-01T00:00:00.000\"}, {\"Cylinders\": 4, \"Miles_per_Gallon\": 29.8, \"year_Year\": \"1980-01-01T00:00:00.000\"}, {\"Cylinders\": 4, \"Miles_per_Gallon\": 31.3, \"year_Year\": \"1980-01-01T00:00:00.000\"}, {\"Cylinders\": 4, \"Miles_per_Gallon\": 37.0, \"year_Year\": \"1980-01-01T00:00:00.000\"}, {\"Cylinders\": 4, \"Miles_per_Gallon\": 32.2, \"year_Year\": \"1980-01-01T00:00:00.000\"}, {\"Cylinders\": 4, \"Miles_per_Gallon\": 46.6, \"year_Year\": \"1980-01-01T00:00:00.000\"}, {\"Cylinders\": 4, \"Miles_per_Gallon\": 27.9, \"year_Year\": \"1980-01-01T00:00:00.000\"}, {\"Cylinders\": 4, \"Miles_per_Gallon\": 40.8, \"year_Year\": \"1980-01-01T00:00:00.000\"}, {\"Cylinders\": 4, \"Miles_per_Gallon\": 44.3, \"year_Year\": \"1980-01-01T00:00:00.000\"}, {\"Cylinders\": 4, \"Miles_per_Gallon\": 43.4, \"year_Year\": \"1980-01-01T00:00:00.000\"}, {\"Cylinders\": 5, \"Miles_per_Gallon\": 36.4, \"year_Year\": \"1980-01-01T00:00:00.000\"}, {\"Cylinders\": 4, \"Miles_per_Gallon\": 30.0, \"year_Year\": \"1980-01-01T00:00:00.000\"}, {\"Cylinders\": 4, \"Miles_per_Gallon\": 44.6, \"year_Year\": \"1980-01-01T00:00:00.000\"}, {\"Cylinders\": 4, \"Miles_per_Gallon\": 40.9, \"year_Year\": \"1980-01-01T00:00:00.000\"}, {\"Cylinders\": 4, \"Miles_per_Gallon\": 33.8, \"year_Year\": \"1980-01-01T00:00:00.000\"}, {\"Cylinders\": 4, \"Miles_per_Gallon\": 29.8, \"year_Year\": \"1980-01-01T00:00:00.000\"}, {\"Cylinders\": 6, \"Miles_per_Gallon\": 32.7, \"year_Year\": \"1980-01-01T00:00:00.000\"}, {\"Cylinders\": 3, \"Miles_per_Gallon\": 23.7, \"year_Year\": \"1980-01-01T00:00:00.000\"}, {\"Cylinders\": 4, \"Miles_per_Gallon\": 35.0, \"year_Year\": \"1980-01-01T00:00:00.000\"}, {\"Cylinders\": 4, \"Miles_per_Gallon\": 23.6, \"year_Year\": \"1980-01-01T00:00:00.000\"}, {\"Cylinders\": 4, \"Miles_per_Gallon\": 32.4, \"year_Year\": \"1980-01-01T00:00:00.000\"}, {\"Cylinders\": 4, \"Miles_per_Gallon\": 27.2, \"year_Year\": \"1982-01-01T00:00:00.000\"}, {\"Cylinders\": 4, \"Miles_per_Gallon\": 26.6, \"year_Year\": \"1982-01-01T00:00:00.000\"}, {\"Cylinders\": 4, \"Miles_per_Gallon\": 25.8, \"year_Year\": \"1982-01-01T00:00:00.000\"}, {\"Cylinders\": 6, \"Miles_per_Gallon\": 23.5, \"year_Year\": \"1982-01-01T00:00:00.000\"}, {\"Cylinders\": 4, \"Miles_per_Gallon\": 30.0, \"year_Year\": \"1982-01-01T00:00:00.000\"}, {\"Cylinders\": 4, \"Miles_per_Gallon\": 39.1, \"year_Year\": \"1982-01-01T00:00:00.000\"}, {\"Cylinders\": 4, \"Miles_per_Gallon\": 39.0, \"year_Year\": \"1982-01-01T00:00:00.000\"}, {\"Cylinders\": 4, \"Miles_per_Gallon\": 35.1, \"year_Year\": \"1982-01-01T00:00:00.000\"}, {\"Cylinders\": 4, \"Miles_per_Gallon\": 32.3, \"year_Year\": \"1982-01-01T00:00:00.000\"}, {\"Cylinders\": 4, \"Miles_per_Gallon\": 37.0, \"year_Year\": \"1982-01-01T00:00:00.000\"}, {\"Cylinders\": 4, \"Miles_per_Gallon\": 37.7, \"year_Year\": \"1982-01-01T00:00:00.000\"}, {\"Cylinders\": 4, \"Miles_per_Gallon\": 34.1, \"year_Year\": \"1982-01-01T00:00:00.000\"}, {\"Cylinders\": 4, \"Miles_per_Gallon\": 34.7, \"year_Year\": \"1982-01-01T00:00:00.000\"}, {\"Cylinders\": 4, \"Miles_per_Gallon\": 34.4, \"year_Year\": \"1982-01-01T00:00:00.000\"}, {\"Cylinders\": 4, \"Miles_per_Gallon\": 29.9, \"year_Year\": \"1982-01-01T00:00:00.000\"}, {\"Cylinders\": 4, \"Miles_per_Gallon\": 33.0, \"year_Year\": \"1982-01-01T00:00:00.000\"}, {\"Cylinders\": 4, \"Miles_per_Gallon\": 34.5, \"year_Year\": \"1982-01-01T00:00:00.000\"}, {\"Cylinders\": 4, \"Miles_per_Gallon\": 33.7, \"year_Year\": \"1982-01-01T00:00:00.000\"}, {\"Cylinders\": 4, \"Miles_per_Gallon\": 32.4, \"year_Year\": \"1982-01-01T00:00:00.000\"}, {\"Cylinders\": 4, \"Miles_per_Gallon\": 32.9, \"year_Year\": \"1982-01-01T00:00:00.000\"}, {\"Cylinders\": 4, \"Miles_per_Gallon\": 31.6, \"year_Year\": \"1982-01-01T00:00:00.000\"}, {\"Cylinders\": 4, \"Miles_per_Gallon\": 28.1, \"year_Year\": \"1982-01-01T00:00:00.000\"}, {\"Cylinders\": 6, \"Miles_per_Gallon\": 30.7, \"year_Year\": \"1982-01-01T00:00:00.000\"}, {\"Cylinders\": 6, \"Miles_per_Gallon\": 25.4, \"year_Year\": \"1982-01-01T00:00:00.000\"}, {\"Cylinders\": 6, \"Miles_per_Gallon\": 24.2, \"year_Year\": \"1982-01-01T00:00:00.000\"}, {\"Cylinders\": 6, \"Miles_per_Gallon\": 22.4, \"year_Year\": \"1982-01-01T00:00:00.000\"}, {\"Cylinders\": 8, \"Miles_per_Gallon\": 26.6, \"year_Year\": \"1982-01-01T00:00:00.000\"}, {\"Cylinders\": 6, \"Miles_per_Gallon\": 20.2, \"year_Year\": \"1982-01-01T00:00:00.000\"}, {\"Cylinders\": 6, \"Miles_per_Gallon\": 17.6, \"year_Year\": \"1982-01-01T00:00:00.000\"}, {\"Cylinders\": 4, \"Miles_per_Gallon\": 28.0, \"year_Year\": \"1982-01-01T00:00:00.000\"}, {\"Cylinders\": 4, \"Miles_per_Gallon\": 27.0, \"year_Year\": \"1982-01-01T00:00:00.000\"}, {\"Cylinders\": 4, \"Miles_per_Gallon\": 34.0, \"year_Year\": \"1982-01-01T00:00:00.000\"}, {\"Cylinders\": 4, \"Miles_per_Gallon\": 31.0, \"year_Year\": \"1982-01-01T00:00:00.000\"}, {\"Cylinders\": 4, \"Miles_per_Gallon\": 29.0, \"year_Year\": \"1982-01-01T00:00:00.000\"}, {\"Cylinders\": 4, \"Miles_per_Gallon\": 27.0, \"year_Year\": \"1982-01-01T00:00:00.000\"}, {\"Cylinders\": 4, \"Miles_per_Gallon\": 24.0, \"year_Year\": \"1982-01-01T00:00:00.000\"}, {\"Cylinders\": 4, \"Miles_per_Gallon\": 23.0, \"year_Year\": \"1982-01-01T00:00:00.000\"}, {\"Cylinders\": 4, \"Miles_per_Gallon\": 36.0, \"year_Year\": \"1982-01-01T00:00:00.000\"}, {\"Cylinders\": 4, \"Miles_per_Gallon\": 37.0, \"year_Year\": \"1982-01-01T00:00:00.000\"}, {\"Cylinders\": 4, \"Miles_per_Gallon\": 31.0, \"year_Year\": \"1982-01-01T00:00:00.000\"}, {\"Cylinders\": 4, \"Miles_per_Gallon\": 38.0, \"year_Year\": \"1982-01-01T00:00:00.000\"}, {\"Cylinders\": 4, \"Miles_per_Gallon\": 36.0, \"year_Year\": \"1982-01-01T00:00:00.000\"}, {\"Cylinders\": 4, \"Miles_per_Gallon\": 36.0, \"year_Year\": \"1982-01-01T00:00:00.000\"}, {\"Cylinders\": 4, \"Miles_per_Gallon\": 36.0, \"year_Year\": \"1982-01-01T00:00:00.000\"}, {\"Cylinders\": 4, \"Miles_per_Gallon\": 34.0, \"year_Year\": \"1982-01-01T00:00:00.000\"}, {\"Cylinders\": 4, \"Miles_per_Gallon\": 38.0, \"year_Year\": \"1982-01-01T00:00:00.000\"}, {\"Cylinders\": 4, \"Miles_per_Gallon\": 32.0, \"year_Year\": \"1982-01-01T00:00:00.000\"}, {\"Cylinders\": 4, \"Miles_per_Gallon\": 38.0, \"year_Year\": \"1982-01-01T00:00:00.000\"}, {\"Cylinders\": 6, \"Miles_per_Gallon\": 25.0, \"year_Year\": \"1982-01-01T00:00:00.000\"}, {\"Cylinders\": 6, \"Miles_per_Gallon\": 38.0, \"year_Year\": \"1982-01-01T00:00:00.000\"}, {\"Cylinders\": 4, \"Miles_per_Gallon\": 26.0, \"year_Year\": \"1982-01-01T00:00:00.000\"}, {\"Cylinders\": 6, \"Miles_per_Gallon\": 22.0, \"year_Year\": \"1982-01-01T00:00:00.000\"}, {\"Cylinders\": 4, \"Miles_per_Gallon\": 32.0, \"year_Year\": \"1982-01-01T00:00:00.000\"}, {\"Cylinders\": 4, \"Miles_per_Gallon\": 36.0, \"year_Year\": \"1982-01-01T00:00:00.000\"}, {\"Cylinders\": 4, \"Miles_per_Gallon\": 27.0, \"year_Year\": \"1982-01-01T00:00:00.000\"}, {\"Cylinders\": 4, \"Miles_per_Gallon\": 27.0, \"year_Year\": \"1982-01-01T00:00:00.000\"}, {\"Cylinders\": 4, \"Miles_per_Gallon\": 44.0, \"year_Year\": \"1982-01-01T00:00:00.000\"}, {\"Cylinders\": 4, \"Miles_per_Gallon\": 32.0, \"year_Year\": \"1982-01-01T00:00:00.000\"}, {\"Cylinders\": 4, \"Miles_per_Gallon\": 28.0, \"year_Year\": \"1982-01-01T00:00:00.000\"}, {\"Cylinders\": 4, \"Miles_per_Gallon\": 31.0, \"year_Year\": \"1982-01-01T00:00:00.000\"}], \"transform\": [{\"type\": \"formula\", \"expr\": \"toDate(datum['year_Year'])\", \"as\": \"year_Year\"}]}, {\"name\": \"source_0_x_domain_Miles_per_Gallon\", \"values\": [{\"min\": 9.0, \"max\": 46.6}]}, {\"name\": \"source_0_y_domain_Cylinders\", \"values\": [{\"min\": 3, \"max\": 8}]}, {\"name\": \"source_0_color_domain_year_Year\", \"values\": [{\"year_Year\": \"1970-01-01T00:00:00.000\"}, {\"year_Year\": \"1971-01-01T00:00:00.000\"}, {\"year_Year\": \"1972-01-01T00:00:00.000\"}, {\"year_Year\": \"1973-01-01T00:00:00.000\"}, {\"year_Year\": \"1974-01-01T00:00:00.000\"}, {\"year_Year\": \"1975-01-01T00:00:00.000\"}, {\"year_Year\": \"1976-01-01T00:00:00.000\"}, {\"year_Year\": \"1977-01-01T00:00:00.000\"}, {\"year_Year\": \"1978-01-01T00:00:00.000\"}, {\"year_Year\": \"1979-01-01T00:00:00.000\"}, {\"year_Year\": \"1980-01-01T00:00:00.000\"}, {\"year_Year\": \"1982-01-01T00:00:00.000\"}], \"transform\": [{\"type\": \"formula\", \"expr\": \"toDate(datum['year_Year'])\", \"as\": \"year_Year\"}]}], \"marks\": [{\"type\": \"symbol\", \"name\": \"marks\", \"from\": {\"data\": \"source_0\"}, \"encode\": {\"update\": {\"opacity\": {\"value\": 0.7}, \"fill\": {\"value\": \"transparent\"}, \"ariaRoleDescription\": {\"value\": \"point\"}, \"x\": [{\"value\": 0, \"test\": \"!isValid(datum[\\\"Miles_per_Gallon\\\"]) || !isFinite(+datum[\\\"Miles_per_Gallon\\\"])\"}, {\"field\": \"Miles_per_Gallon\", \"scale\": \"x\"}], \"stroke\": {\"field\": \"year_Year\", \"scale\": \"color\"}, \"y\": [{\"field\": {\"signal\": null, \"datum\": null, \"group\": \"height\", \"parent\": null}, \"test\": \"!isValid(datum[\\\"Cylinders\\\"]) || !isFinite(+datum[\\\"Cylinders\\\"])\"}, {\"field\": \"Cylinders\", \"scale\": \"y\"}], \"description\": {\"signal\": \"\\\"Year (year): \\\" + (timeFormat(datum[\\\"year_Year\\\"], timeUnitSpecifier([\\\"year\\\"], {\\\"year-month\\\":\\\"%b %Y \\\",\\\"year-month-date\\\":\\\"%b %d, %Y \\\"}))) + \\\"; Miles_per_Gallon: \\\" + (format(datum[\\\"Miles_per_Gallon\\\"], \\\"\\\")) + \\\"; Cylinders: \\\" + (format(datum[\\\"Cylinders\\\"], \\\"\\\"))\"}}}, \"style\": [\"point\"]}], \"scales\": [{\"name\": \"x\", \"type\": \"linear\", \"domain\": [{\"signal\": \"(data(\\\"source_0_x_domain_Miles_per_Gallon\\\")[0] || {}).min\"}, {\"signal\": \"(data(\\\"source_0_x_domain_Miles_per_Gallon\\\")[0] || {}).max\"}], \"range\": [0, {\"signal\": \"width\"}], \"zero\": false, \"nice\": true}, {\"name\": \"y\", \"type\": \"linear\", \"domain\": [{\"signal\": \"(data(\\\"source_0_y_domain_Cylinders\\\")[0] || {}).min\"}, {\"signal\": \"(data(\\\"source_0_y_domain_Cylinders\\\")[0] || {}).max\"}], \"range\": [{\"signal\": \"height\"}, 0], \"nice\": true, \"zero\": false}, {\"name\": \"color\", \"type\": \"ordinal\", \"domain\": {\"data\": \"source_0_color_domain_year_Year\", \"field\": \"year_Year\", \"sort\": true}, \"range\": {\"scheme\": \"category20\"}, \"interpolate\": \"hcl\"}], \"axes\": [{\"scale\": \"x\", \"minExtent\": 0, \"zindex\": 0, \"gridScale\": \"y\", \"labels\": false, \"ticks\": false, \"grid\": true, \"maxExtent\": 0, \"domain\": false, \"orient\": \"bottom\", \"aria\": false, \"tickCount\": {\"signal\": \"ceil(width/40)\"}}, {\"scale\": \"y\", \"minExtent\": 0, \"ticks\": false, \"gridScale\": \"x\", \"orient\": \"left\", \"tickCount\": {\"signal\": \"ceil(height/40)\"}, \"aria\": false, \"domain\": false, \"grid\": true, \"maxExtent\": 0, \"labels\": false, \"zindex\": 0}, {\"scale\": \"x\", \"zindex\": 0, \"tickCount\": {\"signal\": \"ceil(width/40)\"}, \"orient\": \"bottom\", \"title\": \"Miles_per_Gallon\", \"labelFlush\": true, \"labelOverlap\": true, \"grid\": false}, {\"scale\": \"y\", \"tickCount\": {\"signal\": \"ceil(height/40)\"}, \"grid\": false, \"title\": \"Cylinders\", \"orient\": \"left\", \"zindex\": 0, \"labelOverlap\": true}], \"height\": 300, \"width\": 400, \"background\": \"white\", \"padding\": 5, \"style\": \"cell\", \"legends\": [{\"stroke\": \"color\", \"format\": {\"signal\": \"timeUnitSpecifier([\\\"year\\\"], {\\\"year-month\\\":\\\"%b %Y \\\",\\\"year-month-date\\\":\\\"%b %d, %Y \\\"})\"}, \"formatType\": \"time\", \"symbolType\": \"circle\", \"title\": \"Year (year)\", \"encode\": {\"symbols\": {\"update\": {\"fill\": {\"value\": \"transparent\"}, \"opacity\": {\"value\": 0.7}}}}}]}, {\"mode\": \"vega\"});\n",
              "</script>"
            ],
            "text/plain": [
              "alt.Chart(...)"
            ]
          },
          "metadata": {},
          "execution_count": 68
        }
      ]
    },
    {
      "cell_type": "code",
      "source": [
        "cars"
      ],
      "metadata": {
        "colab": {
          "base_uri": "https://localhost:8080/",
          "height": 424
        },
        "id": "_ixTiDit2Dt-",
        "outputId": "8c07e6e6-4e8f-4e83-c20b-8edf1fd85aab"
      },
      "execution_count": 56,
      "outputs": [
        {
          "output_type": "execute_result",
          "data": {
            "text/plain": [
              "                          Name  Miles_per_Gallon  Cylinders  Displacement  \\\n",
              "0    chevrolet chevelle malibu              18.0          8         307.0   \n",
              "1            buick skylark 320              15.0          8         350.0   \n",
              "2           plymouth satellite              18.0          8         318.0   \n",
              "3                amc rebel sst              16.0          8         304.0   \n",
              "4                  ford torino              17.0          8         302.0   \n",
              "..                         ...               ...        ...           ...   \n",
              "401            ford mustang gl              27.0          4         140.0   \n",
              "402                  vw pickup              44.0          4          97.0   \n",
              "403              dodge rampage              32.0          4         135.0   \n",
              "404                ford ranger              28.0          4         120.0   \n",
              "405                 chevy s-10              31.0          4         119.0   \n",
              "\n",
              "     Horsepower  Weight_in_lbs  Acceleration       Year  Origin  \n",
              "0         130.0           3504          12.0 1970-01-01     USA  \n",
              "1         165.0           3693          11.5 1970-01-01     USA  \n",
              "2         150.0           3436          11.0 1970-01-01     USA  \n",
              "3         150.0           3433          12.0 1970-01-01     USA  \n",
              "4         140.0           3449          10.5 1970-01-01     USA  \n",
              "..          ...            ...           ...        ...     ...  \n",
              "401        86.0           2790          15.6 1982-01-01     USA  \n",
              "402        52.0           2130          24.6 1982-01-01  Europe  \n",
              "403        84.0           2295          11.6 1982-01-01     USA  \n",
              "404        79.0           2625          18.6 1982-01-01     USA  \n",
              "405        82.0           2720          19.4 1982-01-01     USA  \n",
              "\n",
              "[406 rows x 9 columns]"
            ],
            "text/html": [
              "\n",
              "  <div id=\"df-af537cdb-6955-40ad-9358-2a4360cbca2b\">\n",
              "    <div class=\"colab-df-container\">\n",
              "      <div>\n",
              "<style scoped>\n",
              "    .dataframe tbody tr th:only-of-type {\n",
              "        vertical-align: middle;\n",
              "    }\n",
              "\n",
              "    .dataframe tbody tr th {\n",
              "        vertical-align: top;\n",
              "    }\n",
              "\n",
              "    .dataframe thead th {\n",
              "        text-align: right;\n",
              "    }\n",
              "</style>\n",
              "<table border=\"1\" class=\"dataframe\">\n",
              "  <thead>\n",
              "    <tr style=\"text-align: right;\">\n",
              "      <th></th>\n",
              "      <th>Name</th>\n",
              "      <th>Miles_per_Gallon</th>\n",
              "      <th>Cylinders</th>\n",
              "      <th>Displacement</th>\n",
              "      <th>Horsepower</th>\n",
              "      <th>Weight_in_lbs</th>\n",
              "      <th>Acceleration</th>\n",
              "      <th>Year</th>\n",
              "      <th>Origin</th>\n",
              "    </tr>\n",
              "  </thead>\n",
              "  <tbody>\n",
              "    <tr>\n",
              "      <th>0</th>\n",
              "      <td>chevrolet chevelle malibu</td>\n",
              "      <td>18.0</td>\n",
              "      <td>8</td>\n",
              "      <td>307.0</td>\n",
              "      <td>130.0</td>\n",
              "      <td>3504</td>\n",
              "      <td>12.0</td>\n",
              "      <td>1970-01-01</td>\n",
              "      <td>USA</td>\n",
              "    </tr>\n",
              "    <tr>\n",
              "      <th>1</th>\n",
              "      <td>buick skylark 320</td>\n",
              "      <td>15.0</td>\n",
              "      <td>8</td>\n",
              "      <td>350.0</td>\n",
              "      <td>165.0</td>\n",
              "      <td>3693</td>\n",
              "      <td>11.5</td>\n",
              "      <td>1970-01-01</td>\n",
              "      <td>USA</td>\n",
              "    </tr>\n",
              "    <tr>\n",
              "      <th>2</th>\n",
              "      <td>plymouth satellite</td>\n",
              "      <td>18.0</td>\n",
              "      <td>8</td>\n",
              "      <td>318.0</td>\n",
              "      <td>150.0</td>\n",
              "      <td>3436</td>\n",
              "      <td>11.0</td>\n",
              "      <td>1970-01-01</td>\n",
              "      <td>USA</td>\n",
              "    </tr>\n",
              "    <tr>\n",
              "      <th>3</th>\n",
              "      <td>amc rebel sst</td>\n",
              "      <td>16.0</td>\n",
              "      <td>8</td>\n",
              "      <td>304.0</td>\n",
              "      <td>150.0</td>\n",
              "      <td>3433</td>\n",
              "      <td>12.0</td>\n",
              "      <td>1970-01-01</td>\n",
              "      <td>USA</td>\n",
              "    </tr>\n",
              "    <tr>\n",
              "      <th>4</th>\n",
              "      <td>ford torino</td>\n",
              "      <td>17.0</td>\n",
              "      <td>8</td>\n",
              "      <td>302.0</td>\n",
              "      <td>140.0</td>\n",
              "      <td>3449</td>\n",
              "      <td>10.5</td>\n",
              "      <td>1970-01-01</td>\n",
              "      <td>USA</td>\n",
              "    </tr>\n",
              "    <tr>\n",
              "      <th>...</th>\n",
              "      <td>...</td>\n",
              "      <td>...</td>\n",
              "      <td>...</td>\n",
              "      <td>...</td>\n",
              "      <td>...</td>\n",
              "      <td>...</td>\n",
              "      <td>...</td>\n",
              "      <td>...</td>\n",
              "      <td>...</td>\n",
              "    </tr>\n",
              "    <tr>\n",
              "      <th>401</th>\n",
              "      <td>ford mustang gl</td>\n",
              "      <td>27.0</td>\n",
              "      <td>4</td>\n",
              "      <td>140.0</td>\n",
              "      <td>86.0</td>\n",
              "      <td>2790</td>\n",
              "      <td>15.6</td>\n",
              "      <td>1982-01-01</td>\n",
              "      <td>USA</td>\n",
              "    </tr>\n",
              "    <tr>\n",
              "      <th>402</th>\n",
              "      <td>vw pickup</td>\n",
              "      <td>44.0</td>\n",
              "      <td>4</td>\n",
              "      <td>97.0</td>\n",
              "      <td>52.0</td>\n",
              "      <td>2130</td>\n",
              "      <td>24.6</td>\n",
              "      <td>1982-01-01</td>\n",
              "      <td>Europe</td>\n",
              "    </tr>\n",
              "    <tr>\n",
              "      <th>403</th>\n",
              "      <td>dodge rampage</td>\n",
              "      <td>32.0</td>\n",
              "      <td>4</td>\n",
              "      <td>135.0</td>\n",
              "      <td>84.0</td>\n",
              "      <td>2295</td>\n",
              "      <td>11.6</td>\n",
              "      <td>1982-01-01</td>\n",
              "      <td>USA</td>\n",
              "    </tr>\n",
              "    <tr>\n",
              "      <th>404</th>\n",
              "      <td>ford ranger</td>\n",
              "      <td>28.0</td>\n",
              "      <td>4</td>\n",
              "      <td>120.0</td>\n",
              "      <td>79.0</td>\n",
              "      <td>2625</td>\n",
              "      <td>18.6</td>\n",
              "      <td>1982-01-01</td>\n",
              "      <td>USA</td>\n",
              "    </tr>\n",
              "    <tr>\n",
              "      <th>405</th>\n",
              "      <td>chevy s-10</td>\n",
              "      <td>31.0</td>\n",
              "      <td>4</td>\n",
              "      <td>119.0</td>\n",
              "      <td>82.0</td>\n",
              "      <td>2720</td>\n",
              "      <td>19.4</td>\n",
              "      <td>1982-01-01</td>\n",
              "      <td>USA</td>\n",
              "    </tr>\n",
              "  </tbody>\n",
              "</table>\n",
              "<p>406 rows × 9 columns</p>\n",
              "</div>\n",
              "      <button class=\"colab-df-convert\" onclick=\"convertToInteractive('df-af537cdb-6955-40ad-9358-2a4360cbca2b')\"\n",
              "              title=\"Convert this dataframe to an interactive table.\"\n",
              "              style=\"display:none;\">\n",
              "        \n",
              "  <svg xmlns=\"http://www.w3.org/2000/svg\" height=\"24px\"viewBox=\"0 0 24 24\"\n",
              "       width=\"24px\">\n",
              "    <path d=\"M0 0h24v24H0V0z\" fill=\"none\"/>\n",
              "    <path d=\"M18.56 5.44l.94 2.06.94-2.06 2.06-.94-2.06-.94-.94-2.06-.94 2.06-2.06.94zm-11 1L8.5 8.5l.94-2.06 2.06-.94-2.06-.94L8.5 2.5l-.94 2.06-2.06.94zm10 10l.94 2.06.94-2.06 2.06-.94-2.06-.94-.94-2.06-.94 2.06-2.06.94z\"/><path d=\"M17.41 7.96l-1.37-1.37c-.4-.4-.92-.59-1.43-.59-.52 0-1.04.2-1.43.59L10.3 9.45l-7.72 7.72c-.78.78-.78 2.05 0 2.83L4 21.41c.39.39.9.59 1.41.59.51 0 1.02-.2 1.41-.59l7.78-7.78 2.81-2.81c.8-.78.8-2.07 0-2.86zM5.41 20L4 18.59l7.72-7.72 1.47 1.35L5.41 20z\"/>\n",
              "  </svg>\n",
              "      </button>\n",
              "      \n",
              "  <style>\n",
              "    .colab-df-container {\n",
              "      display:flex;\n",
              "      flex-wrap:wrap;\n",
              "      gap: 12px;\n",
              "    }\n",
              "\n",
              "    .colab-df-convert {\n",
              "      background-color: #E8F0FE;\n",
              "      border: none;\n",
              "      border-radius: 50%;\n",
              "      cursor: pointer;\n",
              "      display: none;\n",
              "      fill: #1967D2;\n",
              "      height: 32px;\n",
              "      padding: 0 0 0 0;\n",
              "      width: 32px;\n",
              "    }\n",
              "\n",
              "    .colab-df-convert:hover {\n",
              "      background-color: #E2EBFA;\n",
              "      box-shadow: 0px 1px 2px rgba(60, 64, 67, 0.3), 0px 1px 3px 1px rgba(60, 64, 67, 0.15);\n",
              "      fill: #174EA6;\n",
              "    }\n",
              "\n",
              "    [theme=dark] .colab-df-convert {\n",
              "      background-color: #3B4455;\n",
              "      fill: #D2E3FC;\n",
              "    }\n",
              "\n",
              "    [theme=dark] .colab-df-convert:hover {\n",
              "      background-color: #434B5C;\n",
              "      box-shadow: 0px 1px 3px 1px rgba(0, 0, 0, 0.15);\n",
              "      filter: drop-shadow(0px 1px 2px rgba(0, 0, 0, 0.3));\n",
              "      fill: #FFFFFF;\n",
              "    }\n",
              "  </style>\n",
              "\n",
              "      <script>\n",
              "        const buttonEl =\n",
              "          document.querySelector('#df-af537cdb-6955-40ad-9358-2a4360cbca2b button.colab-df-convert');\n",
              "        buttonEl.style.display =\n",
              "          google.colab.kernel.accessAllowed ? 'block' : 'none';\n",
              "\n",
              "        async function convertToInteractive(key) {\n",
              "          const element = document.querySelector('#df-af537cdb-6955-40ad-9358-2a4360cbca2b');\n",
              "          const dataTable =\n",
              "            await google.colab.kernel.invokeFunction('convertToInteractive',\n",
              "                                                     [key], {});\n",
              "          if (!dataTable) return;\n",
              "\n",
              "          const docLinkHtml = 'Like what you see? Visit the ' +\n",
              "            '<a target=\"_blank\" href=https://colab.research.google.com/notebooks/data_table.ipynb>data table notebook</a>'\n",
              "            + ' to learn more about interactive tables.';\n",
              "          element.innerHTML = '';\n",
              "          dataTable['output_type'] = 'display_data';\n",
              "          await google.colab.output.renderOutput(dataTable, element);\n",
              "          const docLink = document.createElement('div');\n",
              "          docLink.innerHTML = docLinkHtml;\n",
              "          element.appendChild(docLink);\n",
              "        }\n",
              "      </script>\n",
              "    </div>\n",
              "  </div>\n",
              "  "
            ]
          },
          "metadata": {},
          "execution_count": 56
        }
      ]
    },
    {
      "cell_type": "code",
      "source": [],
      "metadata": {
        "id": "mwLhMt5T2EHJ"
      },
      "execution_count": null,
      "outputs": []
    }
  ]
}