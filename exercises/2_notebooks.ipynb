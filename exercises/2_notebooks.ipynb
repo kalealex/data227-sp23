{
 "cells": [
  {
   "attachments": {},
   "cell_type": "markdown",
   "metadata": {},
   "source": [
    "# Exercise 2: Notebooks tutorial\n",
    "\n",
    "Here we learn to use ipynb notebooks and a few Python libraries that will be helpful for working with data."
   ]
  },
  {
   "attachments": {},
   "cell_type": "markdown",
   "metadata": {},
   "source": [
    "## Computational notebooks\n",
    "\n",
    "One nice affordance of computational notebooks is that we can interleave blocks of text (like this one) written in [Markdown](https://www.markdownguide.org/getting-started/) with chunks of `code` written in Python in our case. This style of coding is called **\"literate programming\"**. It facilitates process documentation, reporducibile analyses, and reflection on analysis choices. \n"
   ]
  },
  {
   "attachments": {},
   "cell_type": "markdown",
   "metadata": {},
   "source": [
    "Some advised practices for literate programming are:\n",
    "\n",
    "1. Split up your code into distinct high level operations (e.g., load data).\n",
    "2. Say why you are doing things. Why did you transform the data?\n",
    "3. Interpret your charts in text. What patterns do you see? What do they mean for your analysis?\n",
    "4. Comment your code if syntax isn't obvious.\n",
    "\n",
    "The idea is that somebody unfamiliar with your work should be able to read this documentation of your work and repeat your analysis for themself, including your thought process. This is critical to doing data science."
   ]
  },
  {
   "attachments": {},
   "cell_type": "markdown",
   "metadata": {},
   "source": [
    "## Practice!\n",
    "\n",
    "Let's practice literate programming by filling in the brief analysis below. Each time you see a codeblock with the comment `# PROMPT:...` or text *PROMPT: ...*, you should write code or text to complete the analysis.\n",
    "\n",
    "For most of the quarter, you will write documents like this one yourself. However, you will first ease into literate programming by filling in this document."
   ]
  },
  {
   "attachments": {},
   "cell_type": "markdown",
   "metadata": {},
   "source": [
    "### Loading data\n",
    "\n",
    "One of the first things we will want to do in many computational notebooks is load a dataset. In our case, you will load the `storms.csv` dataset."
   ]
  },
  {
   "cell_type": "code",
   "execution_count": 2,
   "metadata": {},
   "outputs": [],
   "source": [
    "# PROMPT: load the storms dataset based on its relative path\n",
    "import pandas as pd\n",
    "\n"
   ]
  },
  {
   "attachments": {},
   "cell_type": "markdown",
   "metadata": {},
   "source": [
    "Let's have a first look at this dataset."
   ]
  },
  {
   "cell_type": "code",
   "execution_count": null,
   "metadata": {},
   "outputs": [],
   "source": [
    "# PROMPT: use the head method to see the data in a table"
   ]
  },
  {
   "attachments": {},
   "cell_type": "markdown",
   "metadata": {},
   "source": [
    "*PROMPT: what do you notice about the column labels? What do you notice as you scan across rows of the data table?*"
   ]
  },
  {
   "attachments": {},
   "cell_type": "markdown",
   "metadata": {},
   "source": [
    "### Visual exploration\n",
    "\n",
    "Now we will practice making queries against this dataset and rendering views to show us specific combinations of variables or cross sections of the data. Creating some of these views will require a little bit of data wrangling."
   ]
  },
  {
   "cell_type": "code",
   "execution_count": null,
   "metadata": {},
   "outputs": [],
   "source": [
    "# PROMPT: use the altair library to investigate the relationship between wind and pressure\n",
    "import altair as alt\n",
    "import vegafusion as vf\n",
    "vf.enable(row_limit=50000)\n",
    "\n"
   ]
  },
  {
   "attachments": {},
   "cell_type": "markdown",
   "metadata": {},
   "source": [
    "*PROMPT: what do you notice about the chart you just made?*"
   ]
  },
  {
   "attachments": {},
   "cell_type": "markdown",
   "metadata": {},
   "source": [
    "Now, let's see how wind and pressure are related to other variables.\n",
    "\n",
    "*PROMPT: create three charts below showing the relationship between wind and pressure and other variables in the dataset. for each chart you create, add a cell below interpreting it. you should add 6 cells total.*"
   ]
  },
  {
   "cell_type": "code",
   "execution_count": null,
   "metadata": {},
   "outputs": [],
   "source": []
  },
  {
   "cell_type": "code",
   "execution_count": null,
   "metadata": {},
   "outputs": [],
   "source": []
  },
  {
   "cell_type": "code",
   "execution_count": null,
   "metadata": {},
   "outputs": [],
   "source": []
  },
  {
   "attachments": {},
   "cell_type": "markdown",
   "metadata": {},
   "source": [
    "One thing we notice when exploring the data is the status column. Let's see unique values of the `status` variable."
   ]
  },
  {
   "cell_type": "code",
   "execution_count": null,
   "metadata": {},
   "outputs": [],
   "source": [
    "# PROMPT: print unique values of the status column"
   ]
  },
  {
   "attachments": {},
   "cell_type": "markdown",
   "metadata": {},
   "source": [
    "Let's create an indicator variable `is_hurricane` to differentiate hurricanes from other storms in the dataset."
   ]
  },
  {
   "cell_type": "code",
   "execution_count": 16,
   "metadata": {},
   "outputs": [],
   "source": [
    "# PROMPT: add a hurricane indicator varible to the dataframe"
   ]
  },
  {
   "cell_type": "markdown",
   "metadata": {},
   "source": [
    "Now let's see where the hurricanes end up in our distribution."
   ]
  },
  {
   "cell_type": "code",
   "execution_count": null,
   "metadata": {},
   "outputs": [],
   "source": [
    "# PROMPT: plot the distribution of wind and pressure highlighting hurricanes in color"
   ]
  },
  {
   "attachments": {},
   "cell_type": "markdown",
   "metadata": {},
   "source": [
    "Let's take a look at where hurricanes end up in different geographic regions. We do this by binning `lat` and `long` coordinates and using these bins to facet our preferred visualization of `wind`, `pressure`, and `is_hurricane`.\n",
    "\n",
    "*PROMPT: Bin the lat and long variables to create a 4-by-4 grid of plots showing the relationship between wind, pressure, and is_hurricane across different geographic zones measured in the data*"
   ]
  },
  {
   "cell_type": "code",
   "execution_count": 21,
   "metadata": {},
   "outputs": [],
   "source": [
    "# HINT: you can use the `pd.cut` method to bin lat and long coordinates"
   ]
  },
  {
   "cell_type": "code",
   "execution_count": null,
   "metadata": {},
   "outputs": [],
   "source": []
  },
  {
   "attachments": {},
   "cell_type": "markdown",
   "metadata": {},
   "source": [
    "*PROMPT: what do you notice about the chart you just made?*"
   ]
  },
  {
   "attachments": {},
   "cell_type": "markdown",
   "metadata": {},
   "source": [
    "Now let's look only at the storms that are hurricanes."
   ]
  },
  {
   "cell_type": "code",
   "execution_count": 23,
   "metadata": {},
   "outputs": [],
   "source": [
    "# PROMPT: create a filtered version of the dataframe containing only the storms that were designated as hurricanes"
   ]
  },
  {
   "attachments": {},
   "cell_type": "markdown",
   "metadata": {},
   "source": [
    "Let's take a look at storm wind and pressure grouped by hurricane category."
   ]
  },
  {
   "cell_type": "code",
   "execution_count": null,
   "metadata": {},
   "outputs": [],
   "source": [
    "# PROMPT: using the filtered data, plot wind and pressure by hurricane category"
   ]
  },
  {
   "attachments": {},
   "cell_type": "markdown",
   "metadata": {},
   "source": [
    "*PROMPT: what do you notice about the chart you just made?*"
   ]
  },
  {
   "attachments": {},
   "cell_type": "markdown",
   "metadata": {},
   "source": [
    "Now, let's create a version of this chart where we superimpose lines representing the trend between wind and pressure within each category. \n",
    "\n",
    "We'll start by creating the line chart showing mean pressure by wind and category."
   ]
  },
  {
   "cell_type": "code",
   "execution_count": null,
   "metadata": {},
   "outputs": [],
   "source": [
    "# PROMPT: using the filtered data, plot the trend of wind x pressure within categories"
   ]
  },
  {
   "attachments": {},
   "cell_type": "markdown",
   "metadata": {},
   "source": [
    "*PROMPT: what do you notice about the chart you just made?*"
   ]
  },
  {
   "attachments": {},
   "cell_type": "markdown",
   "metadata": {},
   "source": [
    "Now, let's layer our line chart on top of the chart we created earlier comparing wind, pressure, and hurricane category.  "
   ]
  },
  {
   "cell_type": "code",
   "execution_count": 32,
   "metadata": {},
   "outputs": [],
   "source": [
    "# PROMPT: using the filtered data, plot the trend of wind x pressure within categories as a scatterplot with superimposed mean lines\n",
    "# HINT: you can superimpose layers in altair using the `+` operator"
   ]
  },
  {
   "attachments": {},
   "cell_type": "markdown",
   "metadata": {},
   "source": [
    "As a final challenge, let's add an additional layer showing one standard error around our lines as an interval."
   ]
  },
  {
   "cell_type": "code",
   "execution_count": null,
   "metadata": {},
   "outputs": [],
   "source": [
    "# PROMPT: add an interval representing the standard error of the mean to the scatterplot with lines superimposed\n",
    "# HINT: you'll need a mark type called `mark_errorband` for this"
   ]
  },
  {
   "attachments": {},
   "cell_type": "markdown",
   "metadata": {},
   "source": [
    "*PROMPT: what do you notice about the chart you just made?*"
   ]
  }
 ],
 "metadata": {
  "kernelspec": {
   "display_name": ".venv",
   "language": "python",
   "name": "python3"
  },
  "language_info": {
   "codemirror_mode": {
    "name": "ipython",
    "version": 3
   },
   "file_extension": ".py",
   "mimetype": "text/x-python",
   "name": "python",
   "nbconvert_exporter": "python",
   "pygments_lexer": "ipython3",
   "version": "3.9.13"
  },
  "orig_nbformat": 4,
  "vscode": {
   "interpreter": {
    "hash": "aa2e162a41adc7a3f61ad223fa9443b4418ac738dcb7b70435c59ac04d16d19c"
   }
  }
 },
 "nbformat": 4,
 "nbformat_minor": 2
}
