{
 "cells": [
  {
   "attachments": {},
   "cell_type": "markdown",
   "metadata": {},
   "source": [
    "# Exercise 5: Making Data Interactive\n",
    "\n",
    "Here we learn to use Altair to make data interactive. This will entail learning to implement a few common interaction techniques that appear often in narrative visualizations and dashboards.\n",
    "\n",
    "For a primer on implementing interaction techniques in Altair, take a look at [this resource](https://uwdata.github.io/visualization-curriculum/altair_interaction.html) from our colleagues at the University of Washington. This introduces the idea of Altair **selections** and walks though some examples of how to use them. It will be very helpful to look at this when attempting this exercise!"
   ]
  },
  {
   "attachments": {},
   "cell_type": "markdown",
   "metadata": {},
   "source": [
    "## Cars dataset ward map\n",
    "\n",
    "For today's exercise, we'll be working with a dataset that's often used in software demonstrations. The dataset contains one record per make and model of car, and there is a lot of interesting structure in the data for us to uncover by making the data interactive. We will access the dataset using the url hardcoded below."
   ]
  },
  {
   "cell_type": "code",
   "execution_count": 5,
   "metadata": {},
   "outputs": [],
   "source": [
    "url = 'https://cdn.jsdelivr.net/npm/vega-datasets@1/data/cars.json'"
   ]
  },
  {
   "cell_type": "code",
   "execution_count": null,
   "metadata": {},
   "outputs": [],
   "source": [
    "# PROMPT: import pandas and altair; load the data from the url provided"
   ]
  },
  {
   "attachments": {},
   "cell_type": "markdown",
   "metadata": {},
   "source": [
    "## Details on demand\n",
    "\n",
    "One especially common use case for interaction techniques in data visualization is to provide details on demand within the context of an overview visualization. One way of doing this is to create a tooltip, which will provide a text summary of the data as the user hovers or clicks data-encoding marks with their cursor.\n",
    "\n",
    "We'll start by creating a scatterplot with a simple tooltip showing the relationship between horsepower and country of origin."
   ]
  },
  {
   "cell_type": "code",
   "execution_count": null,
   "metadata": {},
   "outputs": [],
   "source": [
    "# PROMPT: create a scatterplot of horsepower by country of origin, and use a tooltip to list the car's make and model, hp, and origin on mouseover"
   ]
  },
  {
   "attachments": {},
   "cell_type": "markdown",
   "metadata": {},
   "source": [
    "*PROMPT: What do you notice in the chart above?*"
   ]
  },
  {
   "attachments": {},
   "cell_type": "markdown",
   "metadata": {},
   "source": [
    "Let's try an example where the details in the tooltip provide a summary of something we don't necessarily see in the chart.\n",
    "\n",
    "Create a heatmap showing counts of records for each combination of country of origin and the number of cylinders in a car's engine. Hovering on a rectangle in the heatmap should produce a tooltip showing the average horsepower and miles per gallon for records represented by that rectangle."
   ]
  },
  {
   "cell_type": "code",
   "execution_count": null,
   "metadata": {},
   "outputs": [],
   "source": [
    "# PROMPT: create a heatmap of origin vs cylinders with a tooltip that lists the average horsepower and miles per gallon within each heatmap rectangle"
   ]
  },
  {
   "attachments": {},
   "cell_type": "markdown",
   "metadata": {},
   "source": [
    "*PROMPT: What do you notice in the chart above?*"
   ]
  },
  {
   "attachments": {},
   "cell_type": "markdown",
   "metadata": {},
   "source": [
    "## Highlighting\n",
    "\n",
    "Another use case for interactivity is to highlight certain data points. \n",
    "\n",
    "Let's create a scatterplot showing horsepower vs miles per gallon where the user can click multiple data points, and the points they click are highlighted somehow and labeled with the name of the car."
   ]
  },
  {
   "cell_type": "code",
   "execution_count": null,
   "metadata": {},
   "outputs": [],
   "source": [
    "# PROMPT: create a scatterplot where clicked points are highlighted and labeled with text"
   ]
  },
  {
   "cell_type": "markdown",
   "metadata": {},
   "source": [
    "*PROMPT: What do you notice in the chart above?*"
   ]
  },
  {
   "attachments": {},
   "cell_type": "markdown",
   "metadata": {},
   "source": [
    "## Cross-filtering\n",
    "\n",
    "One of the most helpful use cases for interactive visualization is filtering data on the fly using a \"brushing and linking\" technique to connect \"coordinated multiple views\". This is the primary interaction technique in dashboards.\n",
    "\n",
    "To start, create a scatterplot matrix where brushing to select points in one view filters points in every other view. Your scatterplot matrix should show the joint distribution of horsepower, miles per gallon, displacement, and cylinders."
   ]
  },
  {
   "cell_type": "code",
   "execution_count": null,
   "metadata": {},
   "outputs": [],
   "source": [
    "# PROMPT: create a scatterplot matrix of horsepower, miles per gallon, displacement, and cylinders\n",
    "# users should be able to brush points in one chart and filter to highlight those points in other charts"
   ]
  },
  {
   "cell_type": "markdown",
   "metadata": {},
   "source": [
    "*PROMPT: What do you notice in the chart above?*"
   ]
  },
  {
   "attachments": {},
   "cell_type": "markdown",
   "metadata": {},
   "source": [
    "Let's create one more example using a brushing and linking technique. \n",
    "\n",
    "Create a set of side-by-side bar charts, one for each of the variables we were just looking at. Link these bar charts so that brushing on each of them filters the set of values shown. Add a background layer where the bars are not filtered so that the non-filtered distributions remain visible as we interactively select a subset of the data."
   ]
  },
  {
   "cell_type": "code",
   "execution_count": null,
   "metadata": {},
   "outputs": [],
   "source": [
    "# PROMPT: create bar charts of counts showing the distributions of horsepower, miles per gallon, displacement, and cylinders\n",
    "# link these bar charts so that the user can brush a filter on all charts simultaniously"
   ]
  },
  {
   "cell_type": "markdown",
   "metadata": {},
   "source": [
    "*PROMPT: What do you notice in the chart above?*"
   ]
  }
 ],
 "metadata": {
  "kernelspec": {
   "display_name": ".venv",
   "language": "python",
   "name": "python3"
  },
  "language_info": {
   "codemirror_mode": {
    "name": "ipython",
    "version": 3
   },
   "file_extension": ".py",
   "mimetype": "text/x-python",
   "name": "python",
   "nbconvert_exporter": "python",
   "pygments_lexer": "ipython3",
   "version": "3.9.13"
  },
  "orig_nbformat": 4,
  "vscode": {
   "interpreter": {
    "hash": "e483c1fea6ecdefb016f0859b347b6a22e661bb4e4061935aba42c6ab22ce13d"
   }
  }
 },
 "nbformat": 4,
 "nbformat_minor": 2
}
