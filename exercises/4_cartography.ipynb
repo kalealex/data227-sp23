{
 "cells": [
  {
   "attachments": {},
   "cell_type": "markdown",
   "metadata": {},
   "source": [
    "# Exercise 4: Cartography\n",
    "\n",
    "Here we learn to use Altair for rendering maps. We will also get some practice with color scales.\n",
    "\n",
    "For a primer on cartography in Altair, take a look at [this resource](https://uwdata.github.io/visualization-curriculum/altair_cartographic.html) from our colleagues at the University of Washington."
   ]
  },
  {
   "attachments": {},
   "cell_type": "markdown",
   "metadata": {},
   "source": [
    "## Chicago ward map\n",
    "\n",
    "We're going to start by downloading some geoJSON data for wards in the City of Chicago. You can find the data [here](https://data.cityofchicago.org/Facilities-Geographic-Boundaries/Boundaries-Wards-2015-2023-/sp34-6z76).\n",
    "\n",
    "We load the data into python and render it using Altair."
   ]
  },
  {
   "cell_type": "code",
   "execution_count": 56,
   "metadata": {},
   "outputs": [],
   "source": [
    "# PROMPT: import geojson, pandas (to use later), and altair"
   ]
  },
  {
   "cell_type": "code",
   "execution_count": 57,
   "metadata": {},
   "outputs": [],
   "source": [
    "# PROMPT: load geojson data from https://data.cityofchicago.org/Facilities-Geographic-Boundaries/Boundaries-Wards-2015-2023-/sp34-6z76\n",
    "# HINT: go to provided URL > click Export > geoJSON"
   ]
  },
  {
   "cell_type": "code",
   "execution_count": null,
   "metadata": {},
   "outputs": [],
   "source": [
    "# PROMPT: use altair to render a map of Chicago wards"
   ]
  },
  {
   "attachments": {},
   "cell_type": "markdown",
   "metadata": {},
   "source": [
    "*PROMPT: describe the map you made, especially your choice of map projection and why you chose it*"
   ]
  },
  {
   "attachments": {},
   "cell_type": "markdown",
   "metadata": {},
   "source": [
    "Now we have a simple map of Chicago's wards, but we want to fill it in with data. For this, we will need another data source. We will pull in data from [a Tableau Public example](https://public.tableau.com/app/profile/ccao/viz/DataChicagoHomes/WardMap) about home sales in Chicago, and we will visualize different attributes of the data using color and point encodings.\n",
    "\n",
    "First, lets set of the fill color of our map based on which type of home had the highest count of sales in each ward in 2020."
   ]
  },
  {
   "cell_type": "code",
   "execution_count": null,
   "metadata": {},
   "outputs": [],
   "source": [
    "# PROMPT: load the data about home sales per Chicago ward\n",
    "# HINT:  go to provided URL > Download Data > Data > Show Fields to filter > Download\n",
    "# HINT: read the data using the argument `encoding=\"UTF-16\"` to avoid an error"
   ]
  },
  {
   "cell_type": "code",
   "execution_count": null,
   "metadata": {},
   "outputs": [],
   "source": [
    "# PROMPT: use altair to make a choropleth map of which type of home has the highest count of sales per ward\n",
    "# HINT: this stackoverflow page might help you with a required data transformation https://stackoverflow.com/questions/15705630/get-the-rows-which-have-the-max-value-in-groups-using-groupby"
   ]
  },
  {
   "attachments": {},
   "cell_type": "markdown",
   "metadata": {},
   "source": [
    "*PROMPT: describe the map you made, especially how you chose your color scale*"
   ]
  },
  {
   "attachments": {},
   "cell_type": "markdown",
   "metadata": {},
   "source": [
    "Now, we want to see the median home price in each ward for each type of property."
   ]
  },
  {
   "cell_type": "code",
   "execution_count": 109,
   "metadata": {},
   "outputs": [],
   "source": [
    "# PROMPT: use altair to make a choropleth map of median home price per ward, for each home type\n",
    "# HINT: the median home sales values need to be converted to a numeric data type\n",
    "# HINT: you might want to separate the home sales data into different dataframes for each map\n"
   ]
  },
  {
   "attachments": {},
   "cell_type": "markdown",
   "metadata": {},
   "source": [
    "*PROMPT: Describe the map you made, especially how you chose your color scale. Did this map require a different color scale than above? Why or why not?*"
   ]
  },
  {
   "attachments": {},
   "cell_type": "markdown",
   "metadata": {},
   "source": [
    "Now, we want to see the ratio of single family home sales (counts) to condo sales in each ward."
   ]
  },
  {
   "cell_type": "code",
   "execution_count": null,
   "metadata": {},
   "outputs": [],
   "source": [
    "# PROMPT: use altair to make a choropleth map of the ratio of single family/condo sales counts\n",
    "# HINT: you may need to reshape the data on home sales using the pandas pivot method"
   ]
  },
  {
   "cell_type": "markdown",
   "metadata": {},
   "source": [
    "*PROMPT: Describe the map you made, especially how you chose your color scale. Did this map require a different color scale than above? Why or why not?*"
   ]
  },
  {
   "attachments": {},
   "cell_type": "markdown",
   "metadata": {},
   "source": [
    "## Try another!\n",
    "\n",
    "Now, it's your turn to find a data source to map. We suggest finding data representing a place you are familiar with, maybe your hometown."
   ]
  },
  {
   "attachments": {},
   "cell_type": "markdown",
   "metadata": {},
   "source": [
    "*PROMPT: Describe your dataset, and provide a link to any data sources you used*"
   ]
  },
  {
   "cell_type": "code",
   "execution_count": null,
   "metadata": {},
   "outputs": [],
   "source": [
    "# PROMPT: load your data and create a map of your data source(s) showing an interesting pattern"
   ]
  },
  {
   "attachments": {},
   "cell_type": "markdown",
   "metadata": {},
   "source": [
    "*PROMPT: Describe your map. What patterns does it show in the data? Describe your choice of encodings. Why did you choose them?*"
   ]
  }
 ],
 "metadata": {
  "kernelspec": {
   "display_name": ".venv",
   "language": "python",
   "name": "python3"
  },
  "language_info": {
   "codemirror_mode": {
    "name": "ipython",
    "version": 3
   },
   "file_extension": ".py",
   "mimetype": "text/x-python",
   "name": "python",
   "nbconvert_exporter": "python",
   "pygments_lexer": "ipython3",
   "version": "3.9.13"
  },
  "orig_nbformat": 4,
  "vscode": {
   "interpreter": {
    "hash": "aa2e162a41adc7a3f61ad223fa9443b4418ac738dcb7b70435c59ac04d16d19c"
   }
  }
 },
 "nbformat": 4,
 "nbformat_minor": 2
}
